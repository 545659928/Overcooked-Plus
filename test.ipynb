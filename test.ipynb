{
 "cells": [
  {
   "cell_type": "code",
   "execution_count": null,
   "metadata": {},
   "outputs": [
    {
     "name": "stderr",
     "output_type": "stream",
     "text": [
      "ALSA lib confmisc.c:767:(parse_card) cannot find card '0'\n",
      "ALSA lib conf.c:4732:(_snd_config_evaluate) function snd_func_card_driver returned error: No such file or directory\n",
      "ALSA lib confmisc.c:392:(snd_func_concat) error evaluating strings\n",
      "ALSA lib conf.c:4732:(_snd_config_evaluate) function snd_func_concat returned error: No such file or directory\n",
      "ALSA lib confmisc.c:1246:(snd_func_refer) error evaluating name\n",
      "ALSA lib conf.c:4732:(_snd_config_evaluate) function snd_func_refer returned error: No such file or directory\n",
      "ALSA lib conf.c:5220:(snd_config_expand) Evaluate error: No such file or directory\n",
      "ALSA lib pcm.c:2642:(snd_pcm_open_noupdate) Unknown PCM default\n"
     ]
    }
   ],
   "source": [
    "import argparse\n",
    "import os\n",
    "import random\n",
    "import time\n",
    "from distutils.util import strtobool\n",
    "\n",
    "import gym\n",
    "import numpy as np\n",
    "import pygame\n",
    "from gym_macro_overcooked.macActEnvWrapper import MacEnvWrapper\n",
    "from llm_utils import *\n",
    "\n",
    "rewardList = {\"subtask finished\": 10, \"correct delivery\": 200, \"wrong delivery\": -5, \"step penalty\": -0.1}\n",
    "gird_dim=[7,7]\n",
    "env = gym.make('Dynamic-v3', grid_dim=gird_dim, task=3, rewardList=rewardList, map_type = \"Dynamic\", n_agent = 1, obs_radius = 2, mode = \"vector\", debug = True)\n",
    "env.reset()\n",
    "\n",
    "\n"
   ]
  },
  {
   "cell_type": "code",
   "execution_count": null,
   "metadata": {},
   "outputs": [],
   "source": [
    "ITEMIDX= {\"space\": 0, \"counter\": 1, \"agent\": 2, \"tomato\": 3, \"lettuce\": 4, \"plate\": 5, \"knife\": 6, \"delivery\": 7, \"onion\": 8}\n",
    "def map2prompt(agent,map):\n",
    "    map_text = []\n",
    "    for i in range(len(map)):\n",
    "        map_text.append(\" \".join([str(x) for x in map[i]]))\n",
    "    map_text = \"\\n\".join(map_text)\n",
    "\n",
    "    text=('以上是当前环境地图，不同的数字代表不同的物品，具体如下：\\n'+\n",
    "            str(ITEMIDX)+'\\n'+\n",
    "          #'目前的任务列表是：'+str(task_list)+'\\n'+\n",
    "          '其中你的位置是：'+str((agent.x,agent.y))+'\\n'+\n",
    "          '请你给我一段提示词，让我能够使用这个提示词让LLM帮助完成任务。')\n",
    "    return map_text+'\\n'+text\n",
    "    \n",
    "    "
   ]
  },
  {
   "cell_type": "markdown",
   "metadata": {},
   "source": []
  },
  {
   "cell_type": "code",
   "execution_count": null,
   "metadata": {},
   "outputs": [
    {
     "data": {
      "text/plain": [
       "{'prompt': \"There are two fixed cutting boards in the room. You notice a lettuce and an onion on the different tables. Currently you are carrying an unchopped tomato in hand. To serve the dish of a bowl only containing chopped tomato and lettuce, let's think step by step, you should first\",\n",
       " 'action': ['pick up the tomato',\n",
       "  'pick up the lettuce',\n",
       "  'pick up the onion',\n",
       "  'take the empty bowl',\n",
       "  'put the tomato on the first cutting board',\n",
       "  'put the tomato on the second cutting board',\n",
       "  'serve the dish',\n",
       "  'chop nothing']}"
      ]
     },
     "execution_count": 3,
     "metadata": {},
     "output_type": "execute_result"
    }
   ],
   "source": [
    "new_obs, reward, done, info = env.run(0)\n",
    "test=env.render()\n",
    "obs2text(new_obs,task=env.task)"
   ]
  },
  {
   "cell_type": "code",
   "execution_count": null,
   "metadata": {},
   "outputs": [
    {
     "name": "stdout",
     "output_type": "stream",
     "text": [
      "ChatCompletionMessage(content='Action: 1. pick up the tomato\\nReason: Since only chopped tomato and lettuce need to be served in the bowl, the first step in the process would include picking up a tomato.', role='assistant', function_call=None, tool_calls=None)\n",
      "-0.199 False {'cur_mac': [3], 'mac_done': [True], 'collision': [], 'macro_action_steps': 2}\n",
      "ChatCompletionMessage(content='Action: 5. \\nReason: Because I am already holding the tomato, I need to place it on a cutting board before I can chop it. The onion is not required in the recipe so there is no need to pick it up. I will collect the lettuce later because both lettuce and tomato need to be chopped before serving and it makes more sense to complete one task before moving onto the next.', role='assistant', function_call=None, tool_calls=None)\n",
      "-0.490099501 False {'cur_mac': [2], 'mac_done': [True], 'collision': [], 'macro_action_steps': 5}\n"
     ]
    },
    {
     "ename": "KeyboardInterrupt",
     "evalue": "",
     "output_type": "error",
     "traceback": [
      "\u001b[0;31m---------------------------------------------------------------------------\u001b[0m",
      "\u001b[0;31mKeyboardInterrupt\u001b[0m                         Traceback (most recent call last)",
      "\u001b[0;32m/tmp/ipykernel_3270/3217554926.py\u001b[0m in \u001b[0;36m<module>\u001b[0;34m\u001b[0m\n\u001b[1;32m      4\u001b[0m     \u001b[0mobs_text\u001b[0m \u001b[0;34m=\u001b[0m \u001b[0mobs2text\u001b[0m\u001b[0;34m(\u001b[0m\u001b[0mobs\u001b[0m\u001b[0;34m,\u001b[0m\u001b[0mtask\u001b[0m\u001b[0;34m=\u001b[0m\u001b[0menv\u001b[0m\u001b[0;34m.\u001b[0m\u001b[0mtask\u001b[0m\u001b[0;34m)\u001b[0m\u001b[0;34m\u001b[0m\u001b[0;34m\u001b[0m\u001b[0m\n\u001b[1;32m      5\u001b[0m     \u001b[0mmessages\u001b[0m \u001b[0;34m=\u001b[0m \u001b[0mcreate_message\u001b[0m\u001b[0;34m(\u001b[0m\u001b[0mobs_text\u001b[0m\u001b[0;34m)\u001b[0m\u001b[0;34m\u001b[0m\u001b[0;34m\u001b[0m\u001b[0m\n\u001b[0;32m----> 6\u001b[0;31m     \u001b[0mresponse\u001b[0m \u001b[0;34m=\u001b[0m \u001b[0mcall_gpt\u001b[0m\u001b[0;34m(\u001b[0m\u001b[0mmessages\u001b[0m\u001b[0;34m,\u001b[0m\u001b[0mmodel\u001b[0m\u001b[0;34m=\u001b[0m\u001b[0;34m'gpt-4'\u001b[0m\u001b[0;34m)\u001b[0m\u001b[0;34m\u001b[0m\u001b[0;34m\u001b[0m\u001b[0m\n\u001b[0m\u001b[1;32m      7\u001b[0m     \u001b[0mprint\u001b[0m\u001b[0;34m(\u001b[0m\u001b[0mresponse\u001b[0m\u001b[0;34m)\u001b[0m\u001b[0;34m\u001b[0m\u001b[0;34m\u001b[0m\u001b[0m\n\u001b[1;32m      8\u001b[0m     \u001b[0maction\u001b[0m \u001b[0;34m=\u001b[0m \u001b[0mextract_and_check_first_number\u001b[0m\u001b[0;34m(\u001b[0m\u001b[0mresponse\u001b[0m\u001b[0;34m.\u001b[0m\u001b[0mcontent\u001b[0m\u001b[0;34m,\u001b[0m\u001b[0mlen\u001b[0m\u001b[0;34m(\u001b[0m\u001b[0mobs_text\u001b[0m\u001b[0;34m[\u001b[0m\u001b[0;34m\"action\"\u001b[0m\u001b[0;34m]\u001b[0m\u001b[0;34m)\u001b[0m\u001b[0;34m)\u001b[0m\u001b[0;34m\u001b[0m\u001b[0;34m\u001b[0m\u001b[0m\n",
      "\u001b[0;32m~/TWOSOME-main/llm_utils.py\u001b[0m in \u001b[0;36mcall_gpt\u001b[0;34m(messages, model)\u001b[0m\n\u001b[1;32m      7\u001b[0m     completion = client.chat.completions.create(\n\u001b[1;32m      8\u001b[0m         \u001b[0mmodel\u001b[0m\u001b[0;34m=\u001b[0m\u001b[0mmodel\u001b[0m\u001b[0;34m,\u001b[0m\u001b[0;34m\u001b[0m\u001b[0;34m\u001b[0m\u001b[0m\n\u001b[0;32m----> 9\u001b[0;31m         messages=messages)\n\u001b[0m\u001b[1;32m     10\u001b[0m     \u001b[0;32mreturn\u001b[0m \u001b[0mcompletion\u001b[0m\u001b[0;34m.\u001b[0m\u001b[0mchoices\u001b[0m\u001b[0;34m[\u001b[0m\u001b[0;36m0\u001b[0m\u001b[0;34m]\u001b[0m\u001b[0;34m.\u001b[0m\u001b[0mmessage\u001b[0m\u001b[0;34m\u001b[0m\u001b[0;34m\u001b[0m\u001b[0m\n\u001b[1;32m     11\u001b[0m \u001b[0;34m\u001b[0m\u001b[0m\n",
      "\u001b[0;32m~/miniconda3/envs/LLM/lib/python3.7/site-packages/openai/_utils/_utils.py\u001b[0m in \u001b[0;36mwrapper\u001b[0;34m(*args, **kwargs)\u001b[0m\n\u001b[1;32m    275\u001b[0m                         \u001b[0mmsg\u001b[0m \u001b[0;34m=\u001b[0m \u001b[0;34mf\"Missing required argument: {quote(missing[0])}\"\u001b[0m\u001b[0;34m\u001b[0m\u001b[0;34m\u001b[0m\u001b[0m\n\u001b[1;32m    276\u001b[0m                 \u001b[0;32mraise\u001b[0m \u001b[0mTypeError\u001b[0m\u001b[0;34m(\u001b[0m\u001b[0mmsg\u001b[0m\u001b[0;34m)\u001b[0m\u001b[0;34m\u001b[0m\u001b[0;34m\u001b[0m\u001b[0m\n\u001b[0;32m--> 277\u001b[0;31m             \u001b[0;32mreturn\u001b[0m \u001b[0mfunc\u001b[0m\u001b[0;34m(\u001b[0m\u001b[0;34m*\u001b[0m\u001b[0margs\u001b[0m\u001b[0;34m,\u001b[0m \u001b[0;34m**\u001b[0m\u001b[0mkwargs\u001b[0m\u001b[0;34m)\u001b[0m\u001b[0;34m\u001b[0m\u001b[0;34m\u001b[0m\u001b[0m\n\u001b[0m\u001b[1;32m    278\u001b[0m \u001b[0;34m\u001b[0m\u001b[0m\n\u001b[1;32m    279\u001b[0m         \u001b[0;32mreturn\u001b[0m \u001b[0mwrapper\u001b[0m  \u001b[0;31m# type: ignore\u001b[0m\u001b[0;34m\u001b[0m\u001b[0;34m\u001b[0m\u001b[0m\n",
      "\u001b[0;32m~/miniconda3/envs/LLM/lib/python3.7/site-packages/openai/resources/chat/completions.py\u001b[0m in \u001b[0;36mcreate\u001b[0;34m(self, messages, model, frequency_penalty, function_call, functions, logit_bias, logprobs, max_tokens, n, presence_penalty, response_format, seed, stop, stream, stream_options, temperature, tool_choice, tools, top_logprobs, top_p, user, extra_headers, extra_query, extra_body, timeout)\u001b[0m\n\u001b[1;32m    621\u001b[0m             \u001b[0mcast_to\u001b[0m\u001b[0;34m=\u001b[0m\u001b[0mChatCompletion\u001b[0m\u001b[0;34m,\u001b[0m\u001b[0;34m\u001b[0m\u001b[0;34m\u001b[0m\u001b[0m\n\u001b[1;32m    622\u001b[0m             \u001b[0mstream\u001b[0m\u001b[0;34m=\u001b[0m\u001b[0mstream\u001b[0m \u001b[0;32mor\u001b[0m \u001b[0;32mFalse\u001b[0m\u001b[0;34m,\u001b[0m\u001b[0;34m\u001b[0m\u001b[0;34m\u001b[0m\u001b[0m\n\u001b[0;32m--> 623\u001b[0;31m             \u001b[0mstream_cls\u001b[0m\u001b[0;34m=\u001b[0m\u001b[0mStream\u001b[0m\u001b[0;34m[\u001b[0m\u001b[0mChatCompletionChunk\u001b[0m\u001b[0;34m]\u001b[0m\u001b[0;34m,\u001b[0m\u001b[0;34m\u001b[0m\u001b[0;34m\u001b[0m\u001b[0m\n\u001b[0m\u001b[1;32m    624\u001b[0m         )\n\u001b[1;32m    625\u001b[0m \u001b[0;34m\u001b[0m\u001b[0m\n",
      "\u001b[0;32m~/miniconda3/envs/LLM/lib/python3.7/site-packages/openai/_base_client.py\u001b[0m in \u001b[0;36mpost\u001b[0;34m(self, path, cast_to, body, options, files, stream, stream_cls)\u001b[0m\n\u001b[1;32m   1238\u001b[0m             \u001b[0mmethod\u001b[0m\u001b[0;34m=\u001b[0m\u001b[0;34m\"post\"\u001b[0m\u001b[0;34m,\u001b[0m \u001b[0murl\u001b[0m\u001b[0;34m=\u001b[0m\u001b[0mpath\u001b[0m\u001b[0;34m,\u001b[0m \u001b[0mjson_data\u001b[0m\u001b[0;34m=\u001b[0m\u001b[0mbody\u001b[0m\u001b[0;34m,\u001b[0m \u001b[0mfiles\u001b[0m\u001b[0;34m=\u001b[0m\u001b[0mto_httpx_files\u001b[0m\u001b[0;34m(\u001b[0m\u001b[0mfiles\u001b[0m\u001b[0;34m)\u001b[0m\u001b[0;34m,\u001b[0m \u001b[0;34m**\u001b[0m\u001b[0moptions\u001b[0m\u001b[0;34m\u001b[0m\u001b[0;34m\u001b[0m\u001b[0m\n\u001b[1;32m   1239\u001b[0m         )\n\u001b[0;32m-> 1240\u001b[0;31m         \u001b[0;32mreturn\u001b[0m \u001b[0mcast\u001b[0m\u001b[0;34m(\u001b[0m\u001b[0mResponseT\u001b[0m\u001b[0;34m,\u001b[0m \u001b[0mself\u001b[0m\u001b[0;34m.\u001b[0m\u001b[0mrequest\u001b[0m\u001b[0;34m(\u001b[0m\u001b[0mcast_to\u001b[0m\u001b[0;34m,\u001b[0m \u001b[0mopts\u001b[0m\u001b[0;34m,\u001b[0m \u001b[0mstream\u001b[0m\u001b[0;34m=\u001b[0m\u001b[0mstream\u001b[0m\u001b[0;34m,\u001b[0m \u001b[0mstream_cls\u001b[0m\u001b[0;34m=\u001b[0m\u001b[0mstream_cls\u001b[0m\u001b[0;34m)\u001b[0m\u001b[0;34m)\u001b[0m\u001b[0;34m\u001b[0m\u001b[0;34m\u001b[0m\u001b[0m\n\u001b[0m\u001b[1;32m   1241\u001b[0m \u001b[0;34m\u001b[0m\u001b[0m\n\u001b[1;32m   1242\u001b[0m     def patch(\n",
      "\u001b[0;32m~/miniconda3/envs/LLM/lib/python3.7/site-packages/openai/_base_client.py\u001b[0m in \u001b[0;36mrequest\u001b[0;34m(self, cast_to, options, remaining_retries, stream, stream_cls)\u001b[0m\n\u001b[1;32m    924\u001b[0m             \u001b[0mstream\u001b[0m\u001b[0;34m=\u001b[0m\u001b[0mstream\u001b[0m\u001b[0;34m,\u001b[0m\u001b[0;34m\u001b[0m\u001b[0;34m\u001b[0m\u001b[0m\n\u001b[1;32m    925\u001b[0m             \u001b[0mstream_cls\u001b[0m\u001b[0;34m=\u001b[0m\u001b[0mstream_cls\u001b[0m\u001b[0;34m,\u001b[0m\u001b[0;34m\u001b[0m\u001b[0;34m\u001b[0m\u001b[0m\n\u001b[0;32m--> 926\u001b[0;31m             \u001b[0mremaining_retries\u001b[0m\u001b[0;34m=\u001b[0m\u001b[0mremaining_retries\u001b[0m\u001b[0;34m,\u001b[0m\u001b[0;34m\u001b[0m\u001b[0;34m\u001b[0m\u001b[0m\n\u001b[0m\u001b[1;32m    927\u001b[0m         )\n\u001b[1;32m    928\u001b[0m \u001b[0;34m\u001b[0m\u001b[0m\n",
      "\u001b[0;32m~/miniconda3/envs/LLM/lib/python3.7/site-packages/openai/_base_client.py\u001b[0m in \u001b[0;36m_request\u001b[0;34m(self, cast_to, options, remaining_retries, stream, stream_cls)\u001b[0m\n\u001b[1;32m    953\u001b[0m                 \u001b[0mrequest\u001b[0m\u001b[0;34m,\u001b[0m\u001b[0;34m\u001b[0m\u001b[0;34m\u001b[0m\u001b[0m\n\u001b[1;32m    954\u001b[0m                 \u001b[0mstream\u001b[0m\u001b[0;34m=\u001b[0m\u001b[0mstream\u001b[0m \u001b[0;32mor\u001b[0m \u001b[0mself\u001b[0m\u001b[0;34m.\u001b[0m\u001b[0m_should_stream_response_body\u001b[0m\u001b[0;34m(\u001b[0m\u001b[0mrequest\u001b[0m\u001b[0;34m=\u001b[0m\u001b[0mrequest\u001b[0m\u001b[0;34m)\u001b[0m\u001b[0;34m,\u001b[0m\u001b[0;34m\u001b[0m\u001b[0;34m\u001b[0m\u001b[0m\n\u001b[0;32m--> 955\u001b[0;31m                 \u001b[0;34m**\u001b[0m\u001b[0mkwargs\u001b[0m\u001b[0;34m,\u001b[0m\u001b[0;34m\u001b[0m\u001b[0;34m\u001b[0m\u001b[0m\n\u001b[0m\u001b[1;32m    956\u001b[0m             )\n\u001b[1;32m    957\u001b[0m         \u001b[0;32mexcept\u001b[0m \u001b[0mhttpx\u001b[0m\u001b[0;34m.\u001b[0m\u001b[0mTimeoutException\u001b[0m \u001b[0;32mas\u001b[0m \u001b[0merr\u001b[0m\u001b[0;34m:\u001b[0m\u001b[0;34m\u001b[0m\u001b[0;34m\u001b[0m\u001b[0m\n",
      "\u001b[0;32m~/miniconda3/envs/LLM/lib/python3.7/site-packages/httpx/_client.py\u001b[0m in \u001b[0;36msend\u001b[0;34m(self, request, stream, auth, follow_redirects)\u001b[0m\n\u001b[1;32m    903\u001b[0m             \u001b[0mauth\u001b[0m\u001b[0;34m=\u001b[0m\u001b[0mauth\u001b[0m\u001b[0;34m,\u001b[0m\u001b[0;34m\u001b[0m\u001b[0;34m\u001b[0m\u001b[0m\n\u001b[1;32m    904\u001b[0m             \u001b[0mfollow_redirects\u001b[0m\u001b[0;34m=\u001b[0m\u001b[0mfollow_redirects\u001b[0m\u001b[0;34m,\u001b[0m\u001b[0;34m\u001b[0m\u001b[0;34m\u001b[0m\u001b[0m\n\u001b[0;32m--> 905\u001b[0;31m             \u001b[0mhistory\u001b[0m\u001b[0;34m=\u001b[0m\u001b[0;34m[\u001b[0m\u001b[0;34m]\u001b[0m\u001b[0;34m,\u001b[0m\u001b[0;34m\u001b[0m\u001b[0;34m\u001b[0m\u001b[0m\n\u001b[0m\u001b[1;32m    906\u001b[0m         )\n\u001b[1;32m    907\u001b[0m         \u001b[0;32mtry\u001b[0m\u001b[0;34m:\u001b[0m\u001b[0;34m\u001b[0m\u001b[0;34m\u001b[0m\u001b[0m\n",
      "\u001b[0;32m~/miniconda3/envs/LLM/lib/python3.7/site-packages/httpx/_client.py\u001b[0m in \u001b[0;36m_send_handling_auth\u001b[0;34m(self, request, auth, follow_redirects, history)\u001b[0m\n\u001b[1;32m    930\u001b[0m                     \u001b[0mrequest\u001b[0m\u001b[0;34m,\u001b[0m\u001b[0;34m\u001b[0m\u001b[0;34m\u001b[0m\u001b[0m\n\u001b[1;32m    931\u001b[0m                     \u001b[0mfollow_redirects\u001b[0m\u001b[0;34m=\u001b[0m\u001b[0mfollow_redirects\u001b[0m\u001b[0;34m,\u001b[0m\u001b[0;34m\u001b[0m\u001b[0;34m\u001b[0m\u001b[0m\n\u001b[0;32m--> 932\u001b[0;31m                     \u001b[0mhistory\u001b[0m\u001b[0;34m=\u001b[0m\u001b[0mhistory\u001b[0m\u001b[0;34m,\u001b[0m\u001b[0;34m\u001b[0m\u001b[0;34m\u001b[0m\u001b[0m\n\u001b[0m\u001b[1;32m    933\u001b[0m                 )\n\u001b[1;32m    934\u001b[0m                 \u001b[0;32mtry\u001b[0m\u001b[0;34m:\u001b[0m\u001b[0;34m\u001b[0m\u001b[0;34m\u001b[0m\u001b[0m\n",
      "\u001b[0;32m~/miniconda3/envs/LLM/lib/python3.7/site-packages/httpx/_client.py\u001b[0m in \u001b[0;36m_send_handling_redirects\u001b[0;34m(self, request, follow_redirects, history)\u001b[0m\n\u001b[1;32m    964\u001b[0m                 \u001b[0mhook\u001b[0m\u001b[0;34m(\u001b[0m\u001b[0mrequest\u001b[0m\u001b[0;34m)\u001b[0m\u001b[0;34m\u001b[0m\u001b[0;34m\u001b[0m\u001b[0m\n\u001b[1;32m    965\u001b[0m \u001b[0;34m\u001b[0m\u001b[0m\n\u001b[0;32m--> 966\u001b[0;31m             \u001b[0mresponse\u001b[0m \u001b[0;34m=\u001b[0m \u001b[0mself\u001b[0m\u001b[0;34m.\u001b[0m\u001b[0m_send_single_request\u001b[0m\u001b[0;34m(\u001b[0m\u001b[0mrequest\u001b[0m\u001b[0;34m)\u001b[0m\u001b[0;34m\u001b[0m\u001b[0;34m\u001b[0m\u001b[0m\n\u001b[0m\u001b[1;32m    967\u001b[0m             \u001b[0;32mtry\u001b[0m\u001b[0;34m:\u001b[0m\u001b[0;34m\u001b[0m\u001b[0;34m\u001b[0m\u001b[0m\n\u001b[1;32m    968\u001b[0m                 \u001b[0;32mfor\u001b[0m \u001b[0mhook\u001b[0m \u001b[0;32min\u001b[0m \u001b[0mself\u001b[0m\u001b[0;34m.\u001b[0m\u001b[0m_event_hooks\u001b[0m\u001b[0;34m[\u001b[0m\u001b[0;34m\"response\"\u001b[0m\u001b[0;34m]\u001b[0m\u001b[0;34m:\u001b[0m\u001b[0;34m\u001b[0m\u001b[0;34m\u001b[0m\u001b[0m\n",
      "\u001b[0;32m~/miniconda3/envs/LLM/lib/python3.7/site-packages/httpx/_client.py\u001b[0m in \u001b[0;36m_send_single_request\u001b[0;34m(self, request)\u001b[0m\n\u001b[1;32m   1000\u001b[0m \u001b[0;34m\u001b[0m\u001b[0m\n\u001b[1;32m   1001\u001b[0m         \u001b[0;32mwith\u001b[0m \u001b[0mrequest_context\u001b[0m\u001b[0;34m(\u001b[0m\u001b[0mrequest\u001b[0m\u001b[0;34m=\u001b[0m\u001b[0mrequest\u001b[0m\u001b[0;34m)\u001b[0m\u001b[0;34m:\u001b[0m\u001b[0;34m\u001b[0m\u001b[0;34m\u001b[0m\u001b[0m\n\u001b[0;32m-> 1002\u001b[0;31m             \u001b[0mresponse\u001b[0m \u001b[0;34m=\u001b[0m \u001b[0mtransport\u001b[0m\u001b[0;34m.\u001b[0m\u001b[0mhandle_request\u001b[0m\u001b[0;34m(\u001b[0m\u001b[0mrequest\u001b[0m\u001b[0;34m)\u001b[0m\u001b[0;34m\u001b[0m\u001b[0;34m\u001b[0m\u001b[0m\n\u001b[0m\u001b[1;32m   1003\u001b[0m \u001b[0;34m\u001b[0m\u001b[0m\n\u001b[1;32m   1004\u001b[0m         \u001b[0;32massert\u001b[0m \u001b[0misinstance\u001b[0m\u001b[0;34m(\u001b[0m\u001b[0mresponse\u001b[0m\u001b[0;34m.\u001b[0m\u001b[0mstream\u001b[0m\u001b[0;34m,\u001b[0m \u001b[0mSyncByteStream\u001b[0m\u001b[0;34m)\u001b[0m\u001b[0;34m\u001b[0m\u001b[0;34m\u001b[0m\u001b[0m\n",
      "\u001b[0;32m~/miniconda3/envs/LLM/lib/python3.7/site-packages/httpx/_transports/default.py\u001b[0m in \u001b[0;36mhandle_request\u001b[0;34m(self, request)\u001b[0m\n\u001b[1;32m    216\u001b[0m         )\n\u001b[1;32m    217\u001b[0m         \u001b[0;32mwith\u001b[0m \u001b[0mmap_httpcore_exceptions\u001b[0m\u001b[0;34m(\u001b[0m\u001b[0;34m)\u001b[0m\u001b[0;34m:\u001b[0m\u001b[0;34m\u001b[0m\u001b[0;34m\u001b[0m\u001b[0m\n\u001b[0;32m--> 218\u001b[0;31m             \u001b[0mresp\u001b[0m \u001b[0;34m=\u001b[0m \u001b[0mself\u001b[0m\u001b[0;34m.\u001b[0m\u001b[0m_pool\u001b[0m\u001b[0;34m.\u001b[0m\u001b[0mhandle_request\u001b[0m\u001b[0;34m(\u001b[0m\u001b[0mreq\u001b[0m\u001b[0;34m)\u001b[0m\u001b[0;34m\u001b[0m\u001b[0;34m\u001b[0m\u001b[0m\n\u001b[0m\u001b[1;32m    219\u001b[0m \u001b[0;34m\u001b[0m\u001b[0m\n\u001b[1;32m    220\u001b[0m         \u001b[0;32massert\u001b[0m \u001b[0misinstance\u001b[0m\u001b[0;34m(\u001b[0m\u001b[0mresp\u001b[0m\u001b[0;34m.\u001b[0m\u001b[0mstream\u001b[0m\u001b[0;34m,\u001b[0m \u001b[0mtyping\u001b[0m\u001b[0;34m.\u001b[0m\u001b[0mIterable\u001b[0m\u001b[0;34m)\u001b[0m\u001b[0;34m\u001b[0m\u001b[0;34m\u001b[0m\u001b[0m\n",
      "\u001b[0;32m~/miniconda3/envs/LLM/lib/python3.7/site-packages/httpcore/_sync/connection_pool.py\u001b[0m in \u001b[0;36mhandle_request\u001b[0;34m(self, request)\u001b[0m\n\u001b[1;32m    260\u001b[0m                 \u001b[0;32mwith\u001b[0m \u001b[0mShieldCancellation\u001b[0m\u001b[0;34m(\u001b[0m\u001b[0;34m)\u001b[0m\u001b[0;34m:\u001b[0m\u001b[0;34m\u001b[0m\u001b[0;34m\u001b[0m\u001b[0m\n\u001b[1;32m    261\u001b[0m                     \u001b[0mself\u001b[0m\u001b[0;34m.\u001b[0m\u001b[0mresponse_closed\u001b[0m\u001b[0;34m(\u001b[0m\u001b[0mstatus\u001b[0m\u001b[0;34m)\u001b[0m\u001b[0;34m\u001b[0m\u001b[0;34m\u001b[0m\u001b[0m\n\u001b[0;32m--> 262\u001b[0;31m                 \u001b[0;32mraise\u001b[0m \u001b[0mexc\u001b[0m\u001b[0;34m\u001b[0m\u001b[0;34m\u001b[0m\u001b[0m\n\u001b[0m\u001b[1;32m    263\u001b[0m             \u001b[0;32melse\u001b[0m\u001b[0;34m:\u001b[0m\u001b[0;34m\u001b[0m\u001b[0;34m\u001b[0m\u001b[0m\n\u001b[1;32m    264\u001b[0m                 \u001b[0;32mbreak\u001b[0m\u001b[0;34m\u001b[0m\u001b[0;34m\u001b[0m\u001b[0m\n",
      "\u001b[0;32m~/miniconda3/envs/LLM/lib/python3.7/site-packages/httpcore/_sync/connection_pool.py\u001b[0m in \u001b[0;36mhandle_request\u001b[0;34m(self, request)\u001b[0m\n\u001b[1;32m    243\u001b[0m \u001b[0;34m\u001b[0m\u001b[0m\n\u001b[1;32m    244\u001b[0m             \u001b[0;32mtry\u001b[0m\u001b[0;34m:\u001b[0m\u001b[0;34m\u001b[0m\u001b[0;34m\u001b[0m\u001b[0m\n\u001b[0;32m--> 245\u001b[0;31m                 \u001b[0mresponse\u001b[0m \u001b[0;34m=\u001b[0m \u001b[0mconnection\u001b[0m\u001b[0;34m.\u001b[0m\u001b[0mhandle_request\u001b[0m\u001b[0;34m(\u001b[0m\u001b[0mrequest\u001b[0m\u001b[0;34m)\u001b[0m\u001b[0;34m\u001b[0m\u001b[0;34m\u001b[0m\u001b[0m\n\u001b[0m\u001b[1;32m    246\u001b[0m             \u001b[0;32mexcept\u001b[0m \u001b[0mConnectionNotAvailable\u001b[0m\u001b[0;34m:\u001b[0m\u001b[0;34m\u001b[0m\u001b[0;34m\u001b[0m\u001b[0m\n\u001b[1;32m    247\u001b[0m                 \u001b[0;31m# The ConnectionNotAvailable exception is a special case, that\u001b[0m\u001b[0;34m\u001b[0m\u001b[0;34m\u001b[0m\u001b[0;34m\u001b[0m\u001b[0m\n",
      "\u001b[0;32m~/miniconda3/envs/LLM/lib/python3.7/site-packages/httpcore/_sync/connection.py\u001b[0m in \u001b[0;36mhandle_request\u001b[0;34m(self, request)\u001b[0m\n\u001b[1;32m     94\u001b[0m                 \u001b[0;32mraise\u001b[0m \u001b[0mConnectionNotAvailable\u001b[0m\u001b[0;34m(\u001b[0m\u001b[0;34m)\u001b[0m\u001b[0;34m\u001b[0m\u001b[0;34m\u001b[0m\u001b[0m\n\u001b[1;32m     95\u001b[0m \u001b[0;34m\u001b[0m\u001b[0m\n\u001b[0;32m---> 96\u001b[0;31m         \u001b[0;32mreturn\u001b[0m \u001b[0mself\u001b[0m\u001b[0;34m.\u001b[0m\u001b[0m_connection\u001b[0m\u001b[0;34m.\u001b[0m\u001b[0mhandle_request\u001b[0m\u001b[0;34m(\u001b[0m\u001b[0mrequest\u001b[0m\u001b[0;34m)\u001b[0m\u001b[0;34m\u001b[0m\u001b[0;34m\u001b[0m\u001b[0m\n\u001b[0m\u001b[1;32m     97\u001b[0m \u001b[0;34m\u001b[0m\u001b[0m\n\u001b[1;32m     98\u001b[0m     \u001b[0;32mdef\u001b[0m \u001b[0m_connect\u001b[0m\u001b[0;34m(\u001b[0m\u001b[0mself\u001b[0m\u001b[0;34m,\u001b[0m \u001b[0mrequest\u001b[0m\u001b[0;34m:\u001b[0m \u001b[0mRequest\u001b[0m\u001b[0;34m)\u001b[0m \u001b[0;34m->\u001b[0m \u001b[0mNetworkStream\u001b[0m\u001b[0;34m:\u001b[0m\u001b[0;34m\u001b[0m\u001b[0;34m\u001b[0m\u001b[0m\n",
      "\u001b[0;32m~/miniconda3/envs/LLM/lib/python3.7/site-packages/httpcore/_sync/http11.py\u001b[0m in \u001b[0;36mhandle_request\u001b[0;34m(self, request)\u001b[0m\n\u001b[1;32m    119\u001b[0m                 \u001b[0;32mwith\u001b[0m \u001b[0mTrace\u001b[0m\u001b[0;34m(\u001b[0m\u001b[0;34m\"response_closed\"\u001b[0m\u001b[0;34m,\u001b[0m \u001b[0mlogger\u001b[0m\u001b[0;34m,\u001b[0m \u001b[0mrequest\u001b[0m\u001b[0;34m)\u001b[0m \u001b[0;32mas\u001b[0m \u001b[0mtrace\u001b[0m\u001b[0;34m:\u001b[0m\u001b[0;34m\u001b[0m\u001b[0;34m\u001b[0m\u001b[0m\n\u001b[1;32m    120\u001b[0m                     \u001b[0mself\u001b[0m\u001b[0;34m.\u001b[0m\u001b[0m_response_closed\u001b[0m\u001b[0;34m(\u001b[0m\u001b[0;34m)\u001b[0m\u001b[0;34m\u001b[0m\u001b[0;34m\u001b[0m\u001b[0m\n\u001b[0;32m--> 121\u001b[0;31m             \u001b[0;32mraise\u001b[0m \u001b[0mexc\u001b[0m\u001b[0;34m\u001b[0m\u001b[0;34m\u001b[0m\u001b[0m\n\u001b[0m\u001b[1;32m    122\u001b[0m \u001b[0;34m\u001b[0m\u001b[0m\n\u001b[1;32m    123\u001b[0m     \u001b[0;31m# Sending the request...\u001b[0m\u001b[0;34m\u001b[0m\u001b[0;34m\u001b[0m\u001b[0;34m\u001b[0m\u001b[0m\n",
      "\u001b[0;32m~/miniconda3/envs/LLM/lib/python3.7/site-packages/httpcore/_sync/http11.py\u001b[0m in \u001b[0;36mhandle_request\u001b[0;34m(self, request)\u001b[0m\n\u001b[1;32m     97\u001b[0m                     \u001b[0mreason_phrase\u001b[0m\u001b[0;34m,\u001b[0m\u001b[0;34m\u001b[0m\u001b[0;34m\u001b[0m\u001b[0m\n\u001b[1;32m     98\u001b[0m                     \u001b[0mheaders\u001b[0m\u001b[0;34m,\u001b[0m\u001b[0;34m\u001b[0m\u001b[0;34m\u001b[0m\u001b[0m\n\u001b[0;32m---> 99\u001b[0;31m                 ) = self._receive_response_headers(**kwargs)\n\u001b[0m\u001b[1;32m    100\u001b[0m                 trace.return_value = (\n\u001b[1;32m    101\u001b[0m                     \u001b[0mhttp_version\u001b[0m\u001b[0;34m,\u001b[0m\u001b[0;34m\u001b[0m\u001b[0;34m\u001b[0m\u001b[0m\n",
      "\u001b[0;32m~/miniconda3/envs/LLM/lib/python3.7/site-packages/httpcore/_sync/http11.py\u001b[0m in \u001b[0;36m_receive_response_headers\u001b[0;34m(self, request)\u001b[0m\n\u001b[1;32m    162\u001b[0m \u001b[0;34m\u001b[0m\u001b[0m\n\u001b[1;32m    163\u001b[0m         \u001b[0;32mwhile\u001b[0m \u001b[0;32mTrue\u001b[0m\u001b[0;34m:\u001b[0m\u001b[0;34m\u001b[0m\u001b[0;34m\u001b[0m\u001b[0m\n\u001b[0;32m--> 164\u001b[0;31m             \u001b[0mevent\u001b[0m \u001b[0;34m=\u001b[0m \u001b[0mself\u001b[0m\u001b[0;34m.\u001b[0m\u001b[0m_receive_event\u001b[0m\u001b[0;34m(\u001b[0m\u001b[0mtimeout\u001b[0m\u001b[0;34m=\u001b[0m\u001b[0mtimeout\u001b[0m\u001b[0;34m)\u001b[0m\u001b[0;34m\u001b[0m\u001b[0;34m\u001b[0m\u001b[0m\n\u001b[0m\u001b[1;32m    165\u001b[0m             \u001b[0;32mif\u001b[0m \u001b[0misinstance\u001b[0m\u001b[0;34m(\u001b[0m\u001b[0mevent\u001b[0m\u001b[0;34m,\u001b[0m \u001b[0mh11\u001b[0m\u001b[0;34m.\u001b[0m\u001b[0mResponse\u001b[0m\u001b[0;34m)\u001b[0m\u001b[0;34m:\u001b[0m\u001b[0;34m\u001b[0m\u001b[0;34m\u001b[0m\u001b[0m\n\u001b[1;32m    166\u001b[0m                 \u001b[0;32mbreak\u001b[0m\u001b[0;34m\u001b[0m\u001b[0;34m\u001b[0m\u001b[0m\n",
      "\u001b[0;32m~/miniconda3/envs/LLM/lib/python3.7/site-packages/httpcore/_sync/http11.py\u001b[0m in \u001b[0;36m_receive_event\u001b[0;34m(self, timeout)\u001b[0m\n\u001b[1;32m    199\u001b[0m             \u001b[0;32mif\u001b[0m \u001b[0mevent\u001b[0m \u001b[0;32mis\u001b[0m \u001b[0mh11\u001b[0m\u001b[0;34m.\u001b[0m\u001b[0mNEED_DATA\u001b[0m\u001b[0;34m:\u001b[0m\u001b[0;34m\u001b[0m\u001b[0;34m\u001b[0m\u001b[0m\n\u001b[1;32m    200\u001b[0m                 data = self._network_stream.read(\n\u001b[0;32m--> 201\u001b[0;31m                     \u001b[0mself\u001b[0m\u001b[0;34m.\u001b[0m\u001b[0mREAD_NUM_BYTES\u001b[0m\u001b[0;34m,\u001b[0m \u001b[0mtimeout\u001b[0m\u001b[0;34m=\u001b[0m\u001b[0mtimeout\u001b[0m\u001b[0;34m\u001b[0m\u001b[0;34m\u001b[0m\u001b[0m\n\u001b[0m\u001b[1;32m    202\u001b[0m                 )\n\u001b[1;32m    203\u001b[0m \u001b[0;34m\u001b[0m\u001b[0m\n",
      "\u001b[0;32m~/miniconda3/envs/LLM/lib/python3.7/site-packages/httpcore/_backends/sync.py\u001b[0m in \u001b[0;36mread\u001b[0;34m(self, max_bytes, timeout)\u001b[0m\n\u001b[1;32m     26\u001b[0m         \u001b[0;32mwith\u001b[0m \u001b[0mmap_exceptions\u001b[0m\u001b[0;34m(\u001b[0m\u001b[0mexc_map\u001b[0m\u001b[0;34m)\u001b[0m\u001b[0;34m:\u001b[0m\u001b[0;34m\u001b[0m\u001b[0;34m\u001b[0m\u001b[0m\n\u001b[1;32m     27\u001b[0m             \u001b[0mself\u001b[0m\u001b[0;34m.\u001b[0m\u001b[0m_sock\u001b[0m\u001b[0;34m.\u001b[0m\u001b[0msettimeout\u001b[0m\u001b[0;34m(\u001b[0m\u001b[0mtimeout\u001b[0m\u001b[0;34m)\u001b[0m\u001b[0;34m\u001b[0m\u001b[0;34m\u001b[0m\u001b[0m\n\u001b[0;32m---> 28\u001b[0;31m             \u001b[0;32mreturn\u001b[0m \u001b[0mself\u001b[0m\u001b[0;34m.\u001b[0m\u001b[0m_sock\u001b[0m\u001b[0;34m.\u001b[0m\u001b[0mrecv\u001b[0m\u001b[0;34m(\u001b[0m\u001b[0mmax_bytes\u001b[0m\u001b[0;34m)\u001b[0m\u001b[0;34m\u001b[0m\u001b[0;34m\u001b[0m\u001b[0m\n\u001b[0m\u001b[1;32m     29\u001b[0m \u001b[0;34m\u001b[0m\u001b[0m\n\u001b[1;32m     30\u001b[0m     \u001b[0;32mdef\u001b[0m \u001b[0mwrite\u001b[0m\u001b[0;34m(\u001b[0m\u001b[0mself\u001b[0m\u001b[0;34m,\u001b[0m \u001b[0mbuffer\u001b[0m\u001b[0;34m:\u001b[0m \u001b[0mbytes\u001b[0m\u001b[0;34m,\u001b[0m \u001b[0mtimeout\u001b[0m\u001b[0;34m:\u001b[0m \u001b[0mtyping\u001b[0m\u001b[0;34m.\u001b[0m\u001b[0mOptional\u001b[0m\u001b[0;34m[\u001b[0m\u001b[0mfloat\u001b[0m\u001b[0;34m]\u001b[0m \u001b[0;34m=\u001b[0m \u001b[0;32mNone\u001b[0m\u001b[0;34m)\u001b[0m \u001b[0;34m->\u001b[0m \u001b[0;32mNone\u001b[0m\u001b[0;34m:\u001b[0m\u001b[0;34m\u001b[0m\u001b[0;34m\u001b[0m\u001b[0m\n",
      "\u001b[0;32m~/miniconda3/envs/LLM/lib/python3.7/ssl.py\u001b[0m in \u001b[0;36mrecv\u001b[0;34m(self, buflen, flags)\u001b[0m\n\u001b[1;32m   1054\u001b[0m                     \u001b[0;34m\"non-zero flags not allowed in calls to recv() on %s\"\u001b[0m \u001b[0;34m%\u001b[0m\u001b[0;34m\u001b[0m\u001b[0;34m\u001b[0m\u001b[0m\n\u001b[1;32m   1055\u001b[0m                     self.__class__)\n\u001b[0;32m-> 1056\u001b[0;31m             \u001b[0;32mreturn\u001b[0m \u001b[0mself\u001b[0m\u001b[0;34m.\u001b[0m\u001b[0mread\u001b[0m\u001b[0;34m(\u001b[0m\u001b[0mbuflen\u001b[0m\u001b[0;34m)\u001b[0m\u001b[0;34m\u001b[0m\u001b[0;34m\u001b[0m\u001b[0m\n\u001b[0m\u001b[1;32m   1057\u001b[0m         \u001b[0;32melse\u001b[0m\u001b[0;34m:\u001b[0m\u001b[0;34m\u001b[0m\u001b[0;34m\u001b[0m\u001b[0m\n\u001b[1;32m   1058\u001b[0m             \u001b[0;32mreturn\u001b[0m \u001b[0msuper\u001b[0m\u001b[0;34m(\u001b[0m\u001b[0;34m)\u001b[0m\u001b[0;34m.\u001b[0m\u001b[0mrecv\u001b[0m\u001b[0;34m(\u001b[0m\u001b[0mbuflen\u001b[0m\u001b[0;34m,\u001b[0m \u001b[0mflags\u001b[0m\u001b[0;34m)\u001b[0m\u001b[0;34m\u001b[0m\u001b[0;34m\u001b[0m\u001b[0m\n",
      "\u001b[0;32m~/miniconda3/envs/LLM/lib/python3.7/ssl.py\u001b[0m in \u001b[0;36mread\u001b[0;34m(self, len, buffer)\u001b[0m\n\u001b[1;32m    929\u001b[0m                 \u001b[0;32mreturn\u001b[0m \u001b[0mself\u001b[0m\u001b[0;34m.\u001b[0m\u001b[0m_sslobj\u001b[0m\u001b[0;34m.\u001b[0m\u001b[0mread\u001b[0m\u001b[0;34m(\u001b[0m\u001b[0mlen\u001b[0m\u001b[0;34m,\u001b[0m \u001b[0mbuffer\u001b[0m\u001b[0;34m)\u001b[0m\u001b[0;34m\u001b[0m\u001b[0;34m\u001b[0m\u001b[0m\n\u001b[1;32m    930\u001b[0m             \u001b[0;32melse\u001b[0m\u001b[0;34m:\u001b[0m\u001b[0;34m\u001b[0m\u001b[0;34m\u001b[0m\u001b[0m\n\u001b[0;32m--> 931\u001b[0;31m                 \u001b[0;32mreturn\u001b[0m \u001b[0mself\u001b[0m\u001b[0;34m.\u001b[0m\u001b[0m_sslobj\u001b[0m\u001b[0;34m.\u001b[0m\u001b[0mread\u001b[0m\u001b[0;34m(\u001b[0m\u001b[0mlen\u001b[0m\u001b[0;34m)\u001b[0m\u001b[0;34m\u001b[0m\u001b[0;34m\u001b[0m\u001b[0m\n\u001b[0m\u001b[1;32m    932\u001b[0m         \u001b[0;32mexcept\u001b[0m \u001b[0mSSLError\u001b[0m \u001b[0;32mas\u001b[0m \u001b[0mx\u001b[0m\u001b[0;34m:\u001b[0m\u001b[0;34m\u001b[0m\u001b[0;34m\u001b[0m\u001b[0m\n\u001b[1;32m    933\u001b[0m             \u001b[0;32mif\u001b[0m \u001b[0mx\u001b[0m\u001b[0;34m.\u001b[0m\u001b[0margs\u001b[0m\u001b[0;34m[\u001b[0m\u001b[0;36m0\u001b[0m\u001b[0;34m]\u001b[0m \u001b[0;34m==\u001b[0m \u001b[0mSSL_ERROR_EOF\u001b[0m \u001b[0;32mand\u001b[0m \u001b[0mself\u001b[0m\u001b[0;34m.\u001b[0m\u001b[0msuppress_ragged_eofs\u001b[0m\u001b[0;34m:\u001b[0m\u001b[0;34m\u001b[0m\u001b[0;34m\u001b[0m\u001b[0m\n",
      "\u001b[0;31mKeyboardInterrupt\u001b[0m: "
     ]
    }
   ],
   "source": [
    "done=False\n",
    "obs=env.reset()\n",
    "while done == False:\n",
    "    obs_text = obs2text(obs,task=env.task)\n",
    "    messages = create_message(obs_text)\n",
    "    response = call_gpt(messages,model='gpt-4')\n",
    "    print(response)\n",
    "    action = extract_and_check_first_number(response.content,len(obs_text[\"action\"]))\n",
    "    new_obs, reward, done, info = env.run(action)\n",
    "    print(reward,done,info)\n",
    "    test=env.render()\n",
    "    obs = new_obs"
   ]
  },
  {
   "cell_type": "code",
   "execution_count": null,
   "metadata": {},
   "outputs": [],
   "source": [
    "done=False\n",
    "obs=env.reset()\n"
   ]
  },
  {
   "cell_type": "code",
   "execution_count": null,
   "metadata": {},
   "outputs": [
    {
     "name": "stdout",
     "output_type": "stream",
     "text": [
      "prompt: There are two fixed cutting boards in the room. An unchopped tomato is on the first cutting board. Currently you are standing in front of the first cutting board without anything in hand. To serve the dish of a bowl only containing chopped tomato and lettuce, let's think step by step, you should first:\n",
      " Action: 1. pick up the tomato\n",
      "2. pick up the lettuce\n",
      "3. pick up the onion\n",
      "4. take the empty bowl\n",
      "5. walk to the first cutting board\n",
      "6. walk to the second cutting board\n",
      "7. serve nothing\n",
      "8. chop the tomato\n",
      "NOTE replay with the action number.\n",
      "====================\n",
      "response: 1\n",
      "====================\n",
      "Info: -0.1 False {'cur_mac': [4], 'mac_done': [True], 'collision': [], 'macro_action_steps': 1}\n"
     ]
    }
   ],
   "source": [
    "obs_text = obs2text(obs,task=env.task)\n",
    "messages = create_message(obs_text)\n",
    "print('prompt:',messages[0][\"content\"])\n",
    "response = call_gpt(messages,model='gpt-4o')\n",
    "print('====================')\n",
    "print('response:',response.content)\n",
    "action = extract_and_check_first_number(response.content,len(obs_text[\"action\"]))\n",
    "new_obs, reward, done, info = env.run(action)\n",
    "print('====================')\n",
    "print('Info:',reward,done,info)\n",
    "test=env.render()\n",
    "obs = new_obs"
   ]
  },
  {
   "cell_type": "code",
   "execution_count": null,
   "metadata": {},
   "outputs": [
    {
     "name": "stdout",
     "output_type": "stream",
     "text": [
      "{'prompt': \"There are two fixed cutting boards in the room. Currently you are carrying an unchopped tomato in hand. To serve the dish of a bowl only containing chopped tomato and lettuce, let's think step by step, you should first\", 'action': ['pick up the tomato', 'pick up the lettuce', 'pick up the onion', 'take the empty bowl', 'put the tomato on the first cutting board', 'put the tomato on the second cutting board', 'serve the dish', 'chop nothing']}\n"
     ]
    }
   ],
   "source": [
    "obs,reward,done,info=env.step([2])\n",
    "print(obs2text(obs[0],task=env.task))\n",
    "a=env.render()"
   ]
  },
  {
   "cell_type": "code",
   "execution_count": null,
   "metadata": {},
   "outputs": [
    {
     "data": {
      "text/plain": [
       "False"
      ]
     },
     "execution_count": 81,
     "metadata": {},
     "output_type": "execute_result"
    }
   ],
   "source": [
    "env.tomato[0].chopped"
   ]
  },
  {
   "cell_type": "code",
   "execution_count": null,
   "metadata": {},
   "outputs": [],
   "source": [
    "env.agent[0].holding"
   ]
  },
  {
   "cell_type": "code",
   "execution_count": null,
   "metadata": {},
   "outputs": [
    {
     "data": {
      "text/plain": [
       "3"
      ]
     },
     "execution_count": 83,
     "metadata": {},
     "output_type": "execute_result"
    }
   ],
   "source": [
    "env.task"
   ]
  },
  {
   "cell_type": "code",
   "execution_count": null,
   "metadata": {},
   "outputs": [
    {
     "data": {
      "text/plain": [
       "'tomato'"
      ]
     },
     "execution_count": 88,
     "metadata": {},
     "output_type": "execute_result"
    }
   ],
   "source": [
    "env.knife[0].holding.chopped"
   ]
  },
  {
   "cell_type": "code",
   "execution_count": null,
   "metadata": {},
   "outputs": [
    {
     "ename": "AttributeError",
     "evalue": "'Lettuce' object has no attribute 'is_cooked'",
     "output_type": "error",
     "traceback": [
      "\u001b[0;31m---------------------------------------------------------------------------\u001b[0m",
      "\u001b[0;31mAttributeError\u001b[0m                            Traceback (most recent call last)",
      "\u001b[0;32m/tmp/ipykernel_22154/4031271102.py\u001b[0m in \u001b[0;36m<module>\u001b[0;34m\u001b[0m\n\u001b[0;32m----> 1\u001b[0;31m \u001b[0menv\u001b[0m\u001b[0;34m.\u001b[0m\u001b[0mlettuce\u001b[0m\u001b[0;34m[\u001b[0m\u001b[0;36m0\u001b[0m\u001b[0;34m]\u001b[0m\u001b[0;34m.\u001b[0m\u001b[0mis_cooked\u001b[0m\u001b[0;34m\u001b[0m\u001b[0;34m\u001b[0m\u001b[0m\n\u001b[0m",
      "\u001b[0;31mAttributeError\u001b[0m: 'Lettuce' object has no attribute 'is_cooked'"
     ]
    }
   ],
   "source": [
    "env.lettuce[0].is_cooked"
   ]
  },
  {
   "cell_type": "code",
   "execution_count": null,
   "metadata": {},
   "outputs": [],
   "source": [
    "b=env.agent[0].holding"
   ]
  },
  {
   "cell_type": "code",
   "execution_count": null,
   "metadata": {},
   "outputs": [
    {
     "data": {
      "text/plain": [
       "([array([0.14285714, 0.        , 0.        , 0.14285714, 0.71428571,\n",
       "         0.        , 0.28571429, 0.85714286, 0.        , 0.85714286,\n",
       "         0.71428571, 0.14285714, 0.        , 0.28571429, 0.        ,\n",
       "         0.42857143, 0.        , 0.14285714, 0.71428571, 0.        ,\n",
       "         0.        , 0.        , 0.        , 0.        , 0.        ,\n",
       "         0.        ])],\n",
       " [-0.1],\n",
       " False,\n",
       " {'cur_mac': [4], 'mac_done': [True], 'collision': []})"
      ]
     },
     "execution_count": 20,
     "metadata": {},
     "output_type": "execute_result"
    }
   ],
   "source": [
    "obs"
   ]
  },
  {
   "cell_type": "code",
   "execution_count": null,
   "metadata": {},
   "outputs": [
    {
     "name": "stdout",
     "output_type": "stream",
     "text": [
      "{'prompt': \"There are two fixed cutting boards in the room. Currently you don't have anything in hand. To serve the dish of a bowl only containing chopped tomato and lettuce, let's think step by step, you should first\", 'action': ['pick up the tomato', 'pick up the lettuce', 'pick up the onion', 'take the empty bowl', 'walk to the first cutting board', 'walk to the second cutting board', 'serve nothing', 'chop nothing']}\n"
     ]
    }
   ],
   "source": [
    "obs,reward,done,info=env.run([6])\n",
    "print(obs2text(obs,task=env.task))\n",
    "a=env.render()"
   ]
  },
  {
   "cell_type": "code",
   "execution_count": null,
   "metadata": {},
   "outputs": [
    {
     "name": "stdout",
     "output_type": "stream",
     "text": [
      "{'prompt': \"There are two fixed cutting boards in the room. An unchopped tomato is on the first cutting board. Currently you are standing in front of the first cutting board without anything in hand. To serve the dish of a bowl only containing chopped tomato and lettuce, let's think step by step, you should first\", 'action': ['pick up the tomato', 'pick up the lettuce', 'pick up the onion', 'take the empty bowl', 'walk to the first cutting board', 'walk to the second cutting board', 'serve nothing', 'chop the tomato']}\n"
     ]
    }
   ],
   "source": []
  },
  {
   "cell_type": "code",
   "execution_count": null,
   "metadata": {},
   "outputs": [
    {
     "name": "stderr",
     "output_type": "stream",
     "text": [
      "ALSA lib confmisc.c:767:(parse_card) cannot find card '0'\n",
      "ALSA lib conf.c:4732:(_snd_config_evaluate) function snd_func_card_driver returned error: No such file or directory\n",
      "ALSA lib confmisc.c:392:(snd_func_concat) error evaluating strings\n",
      "ALSA lib conf.c:4732:(_snd_config_evaluate) function snd_func_concat returned error: No such file or directory\n",
      "ALSA lib confmisc.c:1246:(snd_func_refer) error evaluating name\n",
      "ALSA lib conf.c:4732:(_snd_config_evaluate) function snd_func_refer returned error: No such file or directory\n",
      "ALSA lib conf.c:5220:(snd_config_expand) Evaluate error: No such file or directory\n",
      "ALSA lib pcm.c:2642:(snd_pcm_open_noupdate) Unknown PCM default\n"
     ]
    },
    {
     "name": "stdout",
     "output_type": "stream",
     "text": [
      "Reward: [-0.1], Done: False, Info: {'cur_mac': [1], 'mac_done': [True], 'collision': []}\n",
      "Reward: [-0.1], Done: False, Info: {'cur_mac': [0], 'mac_done': [True], 'collision': []}\n",
      "Reward: [-0.1], Done: False, Info: {'cur_mac': [3], 'mac_done': [True], 'collision': []}\n",
      "Reward: [-0.1], Done: False, Info: {'cur_mac': [0], 'mac_done': [True], 'collision': []}\n",
      "Reward: [-0.1], Done: False, Info: {'cur_mac': [0], 'mac_done': [True], 'collision': []}\n",
      "Reward: [-0.1], Done: False, Info: {'cur_mac': [0], 'mac_done': [True], 'collision': []}\n",
      "Reward: [-0.1], Done: False, Info: {'cur_mac': [0], 'mac_done': [True], 'collision': []}\n",
      "Reward: [-0.1], Done: False, Info: {'cur_mac': [0], 'mac_done': [True], 'collision': []}\n",
      "Reward: [-0.1], Done: False, Info: {'cur_mac': [3], 'mac_done': [True], 'collision': []}\n",
      "Reward: [-0.1], Done: False, Info: {'cur_mac': [1], 'mac_done': [True], 'collision': []}\n",
      "Reward: [-0.1], Done: False, Info: {'cur_mac': [1], 'mac_done': [True], 'collision': []}\n",
      "Reward: [-0.1], Done: False, Info: {'cur_mac': [1], 'mac_done': [True], 'collision': []}\n",
      "Reward: [-0.1], Done: False, Info: {'cur_mac': [1], 'mac_done': [True], 'collision': []}\n",
      "Reward: [-0.1], Done: False, Info: {'cur_mac': [1], 'mac_done': [True], 'collision': []}\n",
      "Reward: [-0.1], Done: False, Info: {'cur_mac': [1], 'mac_done': [True], 'collision': []}\n",
      "Reward: [-0.1], Done: False, Info: {'cur_mac': [3], 'mac_done': [True], 'collision': []}\n",
      "Reward: [-0.1], Done: False, Info: {'cur_mac': [0], 'mac_done': [True], 'collision': []}\n",
      "Reward: [-0.1], Done: False, Info: {'cur_mac': [2], 'mac_done': [True], 'collision': []}\n",
      "Reward: [-0.1], Done: False, Info: {'cur_mac': [2], 'mac_done': [True], 'collision': []}\n",
      "Reward: [-0.1], Done: False, Info: {'cur_mac': [1], 'mac_done': [True], 'collision': []}\n",
      "Reward: [-0.1], Done: False, Info: {'cur_mac': [1], 'mac_done': [True], 'collision': []}\n",
      "Reward: [-0.1], Done: False, Info: {'cur_mac': [1], 'mac_done': [True], 'collision': []}\n",
      "Reward: [-0.1], Done: False, Info: {'cur_mac': [1], 'mac_done': [True], 'collision': []}\n",
      "Reward: [-0.1], Done: False, Info: {'cur_mac': [1], 'mac_done': [True], 'collision': []}\n",
      "Reward: [-0.1], Done: False, Info: {'cur_mac': [1], 'mac_done': [True], 'collision': []}\n",
      "Reward: [-0.1], Done: False, Info: {'cur_mac': [0], 'mac_done': [True], 'collision': []}\n",
      "Reward: [-0.1], Done: False, Info: {'cur_mac': [0], 'mac_done': [True], 'collision': []}\n",
      "Reward: [-0.1], Done: False, Info: {'cur_mac': [1], 'mac_done': [True], 'collision': []}\n",
      "Reward: [-0.1], Done: False, Info: {'cur_mac': [2], 'mac_done': [True], 'collision': []}\n",
      "Reward: [-0.1], Done: False, Info: {'cur_mac': [1], 'mac_done': [True], 'collision': []}\n",
      "Reward: [-0.1], Done: False, Info: {'cur_mac': [3], 'mac_done': [True], 'collision': []}\n",
      "Reward: [-0.1], Done: False, Info: {'cur_mac': [3], 'mac_done': [True], 'collision': []}\n",
      "Reward: [-0.1], Done: False, Info: {'cur_mac': [2], 'mac_done': [True], 'collision': []}\n",
      "Reward: [-0.1], Done: False, Info: {'cur_mac': [2], 'mac_done': [True], 'collision': []}\n",
      "Reward: [-0.1], Done: False, Info: {'cur_mac': [2], 'mac_done': [True], 'collision': []}\n",
      "Reward: [-0.1], Done: False, Info: {'cur_mac': [2], 'mac_done': [True], 'collision': []}\n",
      "Reward: [-0.1], Done: False, Info: {'cur_mac': [1], 'mac_done': [True], 'collision': []}\n",
      "Reward: [-0.1], Done: False, Info: {'cur_mac': [1], 'mac_done': [True], 'collision': []}\n",
      "Reward: [-0.1], Done: False, Info: {'cur_mac': [1], 'mac_done': [True], 'collision': []}\n",
      "Reward: [-0.1], Done: False, Info: {'cur_mac': [1], 'mac_done': [True], 'collision': []}\n",
      "Reward: [-0.1], Done: False, Info: {'cur_mac': [1], 'mac_done': [True], 'collision': []}\n",
      "Reward: [-0.1], Done: False, Info: {'cur_mac': [1], 'mac_done': [True], 'collision': []}\n",
      "Reward: [-0.1], Done: False, Info: {'cur_mac': [0], 'mac_done': [True], 'collision': []}\n",
      "Reward: [-0.1], Done: False, Info: {'cur_mac': [0], 'mac_done': [True], 'collision': []}\n",
      "Reward: [-0.1], Done: False, Info: {'cur_mac': [0], 'mac_done': [True], 'collision': []}\n",
      "Reward: [-0.1], Done: False, Info: {'cur_mac': [0], 'mac_done': [True], 'collision': []}\n",
      "Reward: [-0.1], Done: False, Info: {'cur_mac': [0], 'mac_done': [True], 'collision': []}\n",
      "Reward: [-0.1], Done: False, Info: {'cur_mac': [1], 'mac_done': [True], 'collision': []}\n",
      "Reward: [-0.1], Done: False, Info: {'cur_mac': [3], 'mac_done': [True], 'collision': []}\n",
      "Reward: [-0.1], Done: False, Info: {'cur_mac': [3], 'mac_done': [True], 'collision': []}\n",
      "Reward: [-0.1], Done: False, Info: {'cur_mac': [3], 'mac_done': [True], 'collision': []}\n",
      "Reward: [-0.1], Done: False, Info: {'cur_mac': [2], 'mac_done': [True], 'collision': []}\n",
      "Reward: [-0.1], Done: False, Info: {'cur_mac': [3], 'mac_done': [True], 'collision': []}\n"
     ]
    },
    {
     "ename": "error",
     "evalue": "Couldn't open /home/bluelink/TWOSOME-main/gym_macro_overcooked/render/graphics/ChoppedTomato-ChoppedOnion.png",
     "output_type": "error",
     "traceback": [
      "\u001b[0;31m---------------------------------------------------------------------------\u001b[0m",
      "\u001b[0;31merror\u001b[0m                                     Traceback (most recent call last)",
      "\u001b[0;32m/tmp/ipykernel_10646/3366169329.py\u001b[0m in \u001b[0;36m<module>\u001b[0;34m\u001b[0m\n\u001b[1;32m     32\u001b[0m \u001b[0mobs\u001b[0m\u001b[0;34m=\u001b[0m\u001b[0menv\u001b[0m\u001b[0;34m.\u001b[0m\u001b[0mreset\u001b[0m\u001b[0;34m(\u001b[0m\u001b[0;34m)\u001b[0m\u001b[0;34m\u001b[0m\u001b[0;34m\u001b[0m\u001b[0m\n\u001b[1;32m     33\u001b[0m \u001b[0;32mwhile\u001b[0m \u001b[0mdone\u001b[0m \u001b[0;34m==\u001b[0m \u001b[0;32mFalse\u001b[0m\u001b[0;34m:\u001b[0m\u001b[0;34m\u001b[0m\u001b[0;34m\u001b[0m\u001b[0m\n\u001b[0;32m---> 34\u001b[0;31m     \u001b[0menv\u001b[0m\u001b[0;34m.\u001b[0m\u001b[0mrender\u001b[0m\u001b[0;34m(\u001b[0m\u001b[0;34m)\u001b[0m\u001b[0;34m\u001b[0m\u001b[0;34m\u001b[0m\u001b[0m\n\u001b[0m\u001b[1;32m     35\u001b[0m     \u001b[0;32mfor\u001b[0m \u001b[0mevent\u001b[0m \u001b[0;32min\u001b[0m \u001b[0mpygame\u001b[0m\u001b[0;34m.\u001b[0m\u001b[0mevent\u001b[0m\u001b[0;34m.\u001b[0m\u001b[0mget\u001b[0m\u001b[0;34m(\u001b[0m\u001b[0;34m)\u001b[0m\u001b[0;34m:\u001b[0m\u001b[0;34m\u001b[0m\u001b[0;34m\u001b[0m\u001b[0m\n\u001b[1;32m     36\u001b[0m         \u001b[0;32mif\u001b[0m \u001b[0mevent\u001b[0m\u001b[0;34m.\u001b[0m\u001b[0mtype\u001b[0m \u001b[0;34m==\u001b[0m \u001b[0mpygame\u001b[0m\u001b[0;34m.\u001b[0m\u001b[0mQUIT\u001b[0m\u001b[0;34m:\u001b[0m\u001b[0;34m\u001b[0m\u001b[0;34m\u001b[0m\u001b[0m\n",
      "\u001b[0;32m~/TWOSOME-main/gym_macro_overcooked/dyna_overcooked_V3.py\u001b[0m in \u001b[0;36mrender\u001b[0;34m(self, mode)\u001b[0m\n\u001b[1;32m    865\u001b[0m \u001b[0;34m\u001b[0m\u001b[0m\n\u001b[1;32m    866\u001b[0m     \u001b[0;32mdef\u001b[0m \u001b[0mrender\u001b[0m\u001b[0;34m(\u001b[0m\u001b[0mself\u001b[0m\u001b[0;34m,\u001b[0m \u001b[0mmode\u001b[0m\u001b[0;34m=\u001b[0m\u001b[0;34m'human'\u001b[0m\u001b[0;34m)\u001b[0m\u001b[0;34m:\u001b[0m\u001b[0;34m\u001b[0m\u001b[0;34m\u001b[0m\u001b[0m\n\u001b[0;32m--> 867\u001b[0;31m         \u001b[0;32mreturn\u001b[0m \u001b[0mself\u001b[0m\u001b[0;34m.\u001b[0m\u001b[0mgame\u001b[0m\u001b[0;34m.\u001b[0m\u001b[0mon_render\u001b[0m\u001b[0;34m(\u001b[0m\u001b[0;34m)\u001b[0m\u001b[0;34m\u001b[0m\u001b[0;34m\u001b[0m\u001b[0m\n\u001b[0m\u001b[1;32m    868\u001b[0m \u001b[0;34m\u001b[0m\u001b[0m\n\u001b[1;32m    869\u001b[0m     \u001b[0;32mdef\u001b[0m \u001b[0mrun\u001b[0m\u001b[0;34m(\u001b[0m\u001b[0mself\u001b[0m\u001b[0;34m,\u001b[0m \u001b[0mmacro_actions\u001b[0m\u001b[0;34m)\u001b[0m\u001b[0;34m:\u001b[0m\u001b[0;34m\u001b[0m\u001b[0;34m\u001b[0m\u001b[0m\n",
      "\u001b[0;32m~/TWOSOME-main/gym_macro_overcooked/render/game.py\u001b[0m in \u001b[0;36mon_render\u001b[0;34m(self)\u001b[0m\n\u001b[1;32m    152\u001b[0m                                     \u001b[0mself\u001b[0m\u001b[0;34m.\u001b[0m\u001b[0mdraw\u001b[0m\u001b[0;34m(\u001b[0m\u001b[0magent\u001b[0m\u001b[0;34m.\u001b[0m\u001b[0mholding\u001b[0m\u001b[0;34m.\u001b[0m\u001b[0mname\u001b[0m\u001b[0;34m,\u001b[0m \u001b[0mself\u001b[0m\u001b[0;34m.\u001b[0m\u001b[0mholding_size\u001b[0m\u001b[0;34m,\u001b[0m \u001b[0mself\u001b[0m\u001b[0;34m.\u001b[0m\u001b[0mholding_location\u001b[0m\u001b[0;34m(\u001b[0m\u001b[0;34m(\u001b[0m\u001b[0my\u001b[0m\u001b[0;34m,\u001b[0m \u001b[0mx\u001b[0m\u001b[0;34m)\u001b[0m\u001b[0;34m)\u001b[0m\u001b[0;34m)\u001b[0m\u001b[0;34m\u001b[0m\u001b[0;34m\u001b[0m\u001b[0m\n\u001b[1;32m    153\u001b[0m                                     \u001b[0;32mif\u001b[0m \u001b[0magent\u001b[0m\u001b[0;34m.\u001b[0m\u001b[0mholding\u001b[0m\u001b[0;34m.\u001b[0m\u001b[0mcontaining\u001b[0m\u001b[0;34m:\u001b[0m\u001b[0;34m\u001b[0m\u001b[0;34m\u001b[0m\u001b[0m\n\u001b[0;32m--> 154\u001b[0;31m                                         \u001b[0mself\u001b[0m\u001b[0;34m.\u001b[0m\u001b[0mdraw_contained\u001b[0m\u001b[0;34m(\u001b[0m\u001b[0magent\u001b[0m\u001b[0;34m.\u001b[0m\u001b[0mholding\u001b[0m\u001b[0;34m.\u001b[0m\u001b[0mcontainedName\u001b[0m\u001b[0;34m[\u001b[0m\u001b[0;34m-\u001b[0m\u001b[0;36m2\u001b[0m\u001b[0;34m:\u001b[0m\u001b[0;34m]\u001b[0m\u001b[0;34m,\u001b[0m \u001b[0mself\u001b[0m\u001b[0;34m.\u001b[0m\u001b[0mholding_container_size\u001b[0m\u001b[0;34m,\u001b[0m \u001b[0mself\u001b[0m\u001b[0;34m.\u001b[0m\u001b[0mholding_container_location\u001b[0m\u001b[0;34m(\u001b[0m\u001b[0;34m(\u001b[0m\u001b[0my\u001b[0m\u001b[0;34m,\u001b[0m \u001b[0mx\u001b[0m\u001b[0;34m)\u001b[0m\u001b[0;34m)\u001b[0m\u001b[0;34m)\u001b[0m\u001b[0;34m\u001b[0m\u001b[0;34m\u001b[0m\u001b[0m\n\u001b[0m\u001b[1;32m    155\u001b[0m                                 \u001b[0;32melse\u001b[0m\u001b[0;34m:\u001b[0m\u001b[0;34m\u001b[0m\u001b[0;34m\u001b[0m\u001b[0m\n\u001b[1;32m    156\u001b[0m                                     \u001b[0mself\u001b[0m\u001b[0;34m.\u001b[0m\u001b[0mdraw\u001b[0m\u001b[0;34m(\u001b[0m\u001b[0magent\u001b[0m\u001b[0;34m.\u001b[0m\u001b[0mholding\u001b[0m\u001b[0;34m.\u001b[0m\u001b[0mname\u001b[0m\u001b[0;34m,\u001b[0m \u001b[0mself\u001b[0m\u001b[0;34m.\u001b[0m\u001b[0mholding_size\u001b[0m\u001b[0;34m,\u001b[0m \u001b[0mself\u001b[0m\u001b[0;34m.\u001b[0m\u001b[0mholding_location\u001b[0m\u001b[0;34m(\u001b[0m\u001b[0;34m(\u001b[0m\u001b[0my\u001b[0m\u001b[0;34m,\u001b[0m \u001b[0mx\u001b[0m\u001b[0;34m)\u001b[0m\u001b[0;34m)\u001b[0m\u001b[0;34m)\u001b[0m\u001b[0;34m\u001b[0m\u001b[0;34m\u001b[0m\u001b[0m\n",
      "\u001b[0;32m~/TWOSOME-main/gym_macro_overcooked/render/game.py\u001b[0m in \u001b[0;36mdraw_contained\u001b[0;34m(self, foodlist, size, location)\u001b[0m\n\u001b[1;32m    177\u001b[0m         \u001b[0mveg\u001b[0m\u001b[0;34m,\u001b[0m\u001b[0mmeat\u001b[0m \u001b[0;34m=\u001b[0m \u001b[0mfoodlist\u001b[0m\u001b[0;34m\u001b[0m\u001b[0;34m\u001b[0m\u001b[0m\n\u001b[1;32m    178\u001b[0m         \u001b[0;32mif\u001b[0m \u001b[0mveg\u001b[0m\u001b[0;34m:\u001b[0m\u001b[0;34m\u001b[0m\u001b[0;34m\u001b[0m\u001b[0m\n\u001b[0;32m--> 179\u001b[0;31m             \u001b[0mself\u001b[0m\u001b[0;34m.\u001b[0m\u001b[0mdraw\u001b[0m\u001b[0;34m(\u001b[0m\u001b[0mveg\u001b[0m\u001b[0;34m,\u001b[0m \u001b[0msize\u001b[0m\u001b[0;34m,\u001b[0m \u001b[0mlocation\u001b[0m\u001b[0;34m)\u001b[0m\u001b[0;34m\u001b[0m\u001b[0;34m\u001b[0m\u001b[0m\n\u001b[0m\u001b[1;32m    180\u001b[0m         \u001b[0;32mif\u001b[0m \u001b[0mmeat\u001b[0m\u001b[0;34m:\u001b[0m\u001b[0;34m\u001b[0m\u001b[0;34m\u001b[0m\u001b[0m\n\u001b[1;32m    181\u001b[0m             \u001b[0mself\u001b[0m\u001b[0;34m.\u001b[0m\u001b[0mdraw\u001b[0m\u001b[0;34m(\u001b[0m\u001b[0mmeat\u001b[0m\u001b[0;34m,\u001b[0m \u001b[0msize\u001b[0m\u001b[0;34m,\u001b[0m \u001b[0mlocation\u001b[0m\u001b[0;34m)\u001b[0m\u001b[0;34m\u001b[0m\u001b[0;34m\u001b[0m\u001b[0m\n",
      "\u001b[0;32m~/TWOSOME-main/gym_macro_overcooked/render/game.py\u001b[0m in \u001b[0;36mdraw\u001b[0;34m(self, path, size, location)\u001b[0m\n\u001b[1;32m    171\u001b[0m     \u001b[0;32mdef\u001b[0m \u001b[0mdraw\u001b[0m\u001b[0;34m(\u001b[0m\u001b[0mself\u001b[0m\u001b[0;34m,\u001b[0m \u001b[0mpath\u001b[0m\u001b[0;34m,\u001b[0m \u001b[0msize\u001b[0m\u001b[0;34m,\u001b[0m \u001b[0mlocation\u001b[0m\u001b[0;34m)\u001b[0m\u001b[0;34m:\u001b[0m\u001b[0;34m\u001b[0m\u001b[0;34m\u001b[0m\u001b[0m\n\u001b[1;32m    172\u001b[0m         \u001b[0mimage_path\u001b[0m \u001b[0;34m=\u001b[0m \u001b[0;34m'{}/{}.png'\u001b[0m\u001b[0;34m.\u001b[0m\u001b[0mformat\u001b[0m\u001b[0;34m(\u001b[0m\u001b[0mgraphics_dir\u001b[0m\u001b[0;34m,\u001b[0m \u001b[0mpath\u001b[0m\u001b[0;34m)\u001b[0m\u001b[0;34m\u001b[0m\u001b[0;34m\u001b[0m\u001b[0m\n\u001b[0;32m--> 173\u001b[0;31m         \u001b[0mimage\u001b[0m \u001b[0;34m=\u001b[0m \u001b[0mpygame\u001b[0m\u001b[0;34m.\u001b[0m\u001b[0mtransform\u001b[0m\u001b[0;34m.\u001b[0m\u001b[0mscale\u001b[0m\u001b[0;34m(\u001b[0m\u001b[0mget_image\u001b[0m\u001b[0;34m(\u001b[0m\u001b[0mimage_path\u001b[0m\u001b[0;34m)\u001b[0m\u001b[0;34m,\u001b[0m \u001b[0msize\u001b[0m\u001b[0;34m)\u001b[0m\u001b[0;34m\u001b[0m\u001b[0;34m\u001b[0m\u001b[0m\n\u001b[0m\u001b[1;32m    174\u001b[0m         \u001b[0mself\u001b[0m\u001b[0;34m.\u001b[0m\u001b[0mscreen\u001b[0m\u001b[0;34m.\u001b[0m\u001b[0mblit\u001b[0m\u001b[0;34m(\u001b[0m\u001b[0mimage\u001b[0m\u001b[0;34m,\u001b[0m \u001b[0mlocation\u001b[0m\u001b[0;34m)\u001b[0m\u001b[0;34m\u001b[0m\u001b[0;34m\u001b[0m\u001b[0m\n\u001b[1;32m    175\u001b[0m \u001b[0;34m\u001b[0m\u001b[0m\n",
      "\u001b[0;32m~/TWOSOME-main/gym_macro_overcooked/render/game.py\u001b[0m in \u001b[0;36mget_image\u001b[0;34m(path)\u001b[0m\n\u001b[1;32m     18\u001b[0m     \u001b[0;32mif\u001b[0m \u001b[0mimage\u001b[0m \u001b[0;34m==\u001b[0m \u001b[0;32mNone\u001b[0m\u001b[0;34m:\u001b[0m\u001b[0;34m\u001b[0m\u001b[0;34m\u001b[0m\u001b[0m\n\u001b[1;32m     19\u001b[0m         \u001b[0mcanonicalized_path\u001b[0m \u001b[0;34m=\u001b[0m \u001b[0mpath\u001b[0m\u001b[0;34m.\u001b[0m\u001b[0mreplace\u001b[0m\u001b[0;34m(\u001b[0m\u001b[0;34m'/'\u001b[0m\u001b[0;34m,\u001b[0m \u001b[0mos\u001b[0m\u001b[0;34m.\u001b[0m\u001b[0msep\u001b[0m\u001b[0;34m)\u001b[0m\u001b[0;34m.\u001b[0m\u001b[0mreplace\u001b[0m\u001b[0;34m(\u001b[0m\u001b[0;34m'\\\\'\u001b[0m\u001b[0;34m,\u001b[0m \u001b[0mos\u001b[0m\u001b[0;34m.\u001b[0m\u001b[0msep\u001b[0m\u001b[0;34m)\u001b[0m\u001b[0;34m\u001b[0m\u001b[0;34m\u001b[0m\u001b[0m\n\u001b[0;32m---> 20\u001b[0;31m         \u001b[0mimage\u001b[0m \u001b[0;34m=\u001b[0m \u001b[0mpygame\u001b[0m\u001b[0;34m.\u001b[0m\u001b[0mimage\u001b[0m\u001b[0;34m.\u001b[0m\u001b[0mload\u001b[0m\u001b[0;34m(\u001b[0m\u001b[0mcanonicalized_path\u001b[0m\u001b[0;34m)\u001b[0m\u001b[0;34m\u001b[0m\u001b[0;34m\u001b[0m\u001b[0m\n\u001b[0m\u001b[1;32m     21\u001b[0m         \u001b[0m_image_library\u001b[0m\u001b[0;34m[\u001b[0m\u001b[0mpath\u001b[0m\u001b[0;34m]\u001b[0m \u001b[0;34m=\u001b[0m \u001b[0mimage\u001b[0m\u001b[0;34m\u001b[0m\u001b[0;34m\u001b[0m\u001b[0m\n\u001b[1;32m     22\u001b[0m     \u001b[0;32mreturn\u001b[0m \u001b[0mimage\u001b[0m\u001b[0;34m\u001b[0m\u001b[0;34m\u001b[0m\u001b[0m\n",
      "\u001b[0;31merror\u001b[0m: Couldn't open /home/bluelink/TWOSOME-main/gym_macro_overcooked/render/graphics/ChoppedTomato-ChoppedOnion.png"
     ]
    }
   ],
   "source": [
    "import argparse\n",
    "import os\n",
    "import random\n",
    "import time\n",
    "from distutils.util import strtobool\n",
    "import pygame\n",
    "import gym\n",
    "import numpy as np\n",
    "from gym_macro_overcooked.macActEnvWrapper import MacEnvWrapper\n",
    "from llm_utils import *\n",
    "\n",
    "rewardList = {\"subtask finished\": 10, \"correct delivery\": 200, \"wrong delivery\": -5, \"step penalty\": -0.1}\n",
    "gird_dim=[9,9]\n",
    "env = gym.make('Dynamic-v3', grid_dim=gird_dim, task=3, rewardList=rewardList, map_type = \"Dynamic\", n_agent = 1, obs_radius = 2, mode = \"vector\", debug = True)\n",
    "#env = gym.make('Overcooked-LLMA-v3', grid_dim=gird_dim, task=3, rewardList=rewardList, map_type = \"A\", n_agent = 1, obs_radius = 2, mode = \"vector\", debug = True)\n",
    "env.reset()\n",
    "#给我写一个将键盘WASD输入转换为动作的函数\n",
    "def key2action(key):\n",
    "    if key == 'd':\n",
    "        return 0\n",
    "    elif key == 's':\n",
    "        return 1\n",
    "    elif key == 'a':\n",
    "        return 2\n",
    "    elif key == 'w':\n",
    "        return 3\n",
    "    else:\n",
    "        return None\n",
    "\n",
    "#开始游戏，使用WASD控制移动\n",
    "done=False\n",
    "obs=env.reset()\n",
    "while done == False:\n",
    "    env.render()\n",
    "    for event in pygame.event.get():\n",
    "        if event.type == pygame.QUIT:\n",
    "            done = True\n",
    "        elif event.type == pygame.KEYDOWN:\n",
    "            key = pygame.key.name(event.key)\n",
    "            action = key2action(key)\n",
    "            if action is not None:\n",
    "                new_obs, reward, done, info = env.step([action])\n",
    "                print(f\"Reward: {reward}, Done: {done}, Info: {info}\")\n",
    "                obs = new_obs\n",
    "\n"
   ]
  },
  {
   "cell_type": "code",
   "execution_count": null,
   "metadata": {},
   "outputs": [
    {
     "name": "stderr",
     "output_type": "stream",
     "text": [
      "ALSA lib confmisc.c:767:(parse_card) cannot find card '0'\n",
      "ALSA lib conf.c:4732:(_snd_config_evaluate) function snd_func_card_driver returned error: No such file or directory\n",
      "ALSA lib confmisc.c:392:(snd_func_concat) error evaluating strings\n",
      "ALSA lib conf.c:4732:(_snd_config_evaluate) function snd_func_concat returned error: No such file or directory\n",
      "ALSA lib confmisc.c:1246:(snd_func_refer) error evaluating name\n",
      "ALSA lib conf.c:4732:(_snd_config_evaluate) function snd_func_refer returned error: No such file or directory\n",
      "ALSA lib conf.c:5220:(snd_config_expand) Evaluate error: No such file or directory\n",
      "ALSA lib pcm.c:2642:(snd_pcm_open_noupdate) Unknown PCM default\n"
     ]
    }
   ],
   "source": [
    "import argparse\n",
    "import os\n",
    "import random\n",
    "import time\n",
    "from distutils.util import strtobool\n",
    "import pygame\n",
    "import gym\n",
    "import numpy as np\n",
    "from gym_macro_overcooked.macActEnvWrapper import MacEnvWrapper\n",
    "from llm_utils import *\n",
    "\n",
    "rewardList = {\"subtask finished\": 10, \"correct delivery\": 200, \"wrong delivery\": -5, \"step penalty\": -0.1}\n",
    "gird_dim=[9,9]\n",
    "env = gym.make('Dynamic-v3', grid_dim=gird_dim, task=3, rewardList=rewardList, map_type = \"Dynamic\", n_agent = 1, obs_radius = 2, mode = \"vector\", debug = True)\n"
   ]
  },
  {
   "cell_type": "code",
   "execution_count": null,
   "metadata": {},
   "outputs": [
    {
     "data": {
      "text/plain": [
       "[array([0.        , 0.77777778, 0.        , 0.11111111, 0.88888889,\n",
       "        0.        , 0.22222222, 0.88888889, 0.        , 0.88888889,\n",
       "        0.77777778, 0.44444444, 0.55555556, 0.44444444, 0.77777778,\n",
       "        0.44444444, 0.        , 0.11111111, 0.11111111, 0.22222222,\n",
       "        0.        , 0.66666667, 0.        , 0.66666667, 0.88888889,\n",
       "        0.        , 0.        , 0.        , 0.11111111, 0.88888889,\n",
       "        0.11111111, 0.        , 0.        , 0.        , 1.        ,\n",
       "        0.        , 0.        , 0.        , 0.        , 0.        ,\n",
       "        0.        , 0.        , 0.        , 0.        , 0.        ,\n",
       "        0.        ])]"
      ]
     },
     "execution_count": 12,
     "metadata": {},
     "output_type": "execute_result"
    }
   ],
   "source": [
    "env.reset()"
   ]
  },
  {
   "cell_type": "code",
   "execution_count": null,
   "metadata": {},
   "outputs": [],
   "source": [
    "env._apply_diff()"
   ]
  },
  {
   "cell_type": "code",
   "execution_count": null,
   "metadata": {},
   "outputs": [
    {
     "data": {
      "text/plain": [
       "array([[[114,  93,  51],\n",
       "        [114,  93,  51],\n",
       "        [114,  93,  51],\n",
       "        ...,\n",
       "        [114,  93,  51],\n",
       "        [114,  93,  51],\n",
       "        [114,  93,  51]],\n",
       "\n",
       "       [[114,  93,  51],\n",
       "        [220, 170, 110],\n",
       "        [220, 170, 110],\n",
       "        ...,\n",
       "        [220, 170, 110],\n",
       "        [220, 170, 110],\n",
       "        [114,  93,  51]],\n",
       "\n",
       "       [[114,  93,  51],\n",
       "        [220, 170, 110],\n",
       "        [220, 170, 110],\n",
       "        ...,\n",
       "        [220, 170, 110],\n",
       "        [220, 170, 110],\n",
       "        [114,  93,  51]],\n",
       "\n",
       "       ...,\n",
       "\n",
       "       [[114,  93,  51],\n",
       "        [220, 170, 110],\n",
       "        [220, 170, 110],\n",
       "        ...,\n",
       "        [220, 170, 110],\n",
       "        [220, 170, 110],\n",
       "        [114,  93,  51]],\n",
       "\n",
       "       [[114,  93,  51],\n",
       "        [220, 170, 110],\n",
       "        [220, 170, 110],\n",
       "        ...,\n",
       "        [220, 170, 110],\n",
       "        [220, 170, 110],\n",
       "        [114,  93,  51]],\n",
       "\n",
       "       [[114,  93,  51],\n",
       "        [114,  93,  51],\n",
       "        [114,  93,  51],\n",
       "        ...,\n",
       "        [114,  93,  51],\n",
       "        [114,  93,  51],\n",
       "        [114,  93,  51]]], dtype=uint8)"
      ]
     },
     "execution_count": 9,
     "metadata": {},
     "output_type": "execute_result"
    }
   ],
   "source": [
    "env.render()"
   ]
  },
  {
   "cell_type": "code",
   "execution_count": null,
   "metadata": {},
   "outputs": [
    {
     "data": {
      "text/plain": [
       "True"
      ]
     },
     "execution_count": 3,
     "metadata": {},
     "output_type": "execute_result"
    }
   ],
   "source": [
    "env.plate[0].dirty"
   ]
  },
  {
   "cell_type": "code",
   "execution_count": null,
   "metadata": {},
   "outputs": [],
   "source": [
    "import argparse\n",
    "import os\n",
    "import random\n",
    "import time\n",
    "from distutils.util import strtobool\n",
    "import pygame\n",
    "import gym\n",
    "import numpy as np\n",
    "from gym_macro_overcooked.macActEnvWrapper import MacEnvWrapper\n",
    "from llm_utils import *\n",
    "\n",
    "rewardList = {\"subtask finished\": 10, \"correct delivery\": 200, \"wrong delivery\": -5, \"step penalty\": -0.1}\n",
    "gird_dim=[9,9]\n",
    "env = gym.make('Dynamic-v3', task=3, rewardList=rewardList, n_agent = 1, obs_radius = 2, obs_mode = \"vector\", debug = True)\n",
    "#env = gym.make('Overcooked-LLMA-v3', grid_dim=gird_dim, task=3, rewardList=rewardList, map_type = \"A\", n_agent = 1, obs_radius = 2, mode = \"vector\", debug = True)\n",
    "env.reset()\n",
    "#给我写一个将键盘WASD输入转换为动作的函数\n",
    "def key2action(key):\n",
    "    if key == 'd':\n",
    "        return 0\n",
    "    elif key == 's':\n",
    "        return 1\n",
    "    elif key == 'a':\n",
    "        return 2\n",
    "    elif key == 'w':\n",
    "        return 3\n",
    "    else:\n",
    "        return None\n",
    "#开始游戏，使用WASD控制移动\n",
    "done=False\n",
    "obs=env.reset()\n",
    "\n",
    "while done == False:\n",
    "    \n",
    "    key = input(\"Please input a key: \")\n",
    "    action = key2action(key)\n",
    "    if action is not None:\n",
    "        new_obs, reward, done, info = env.step([action])\n",
    "        print(f\"Reward: {reward}, Done: {done}, Info: {info}\")\n",
    "\n",
    "    env.render()\n"
   ]
  },
  {
   "cell_type": "code",
   "execution_count": null,
   "metadata": {},
   "outputs": [
    {
     "name": "stdout",
     "output_type": "stream",
     "text": [
      "yes\n"
     ]
    }
   ],
   "source": [
    "\n",
    "contained_meat=[\"1\"]\n",
    "\"-\".join(contained_meat)\n",
    "if contained_meat:\n",
    "    print('yes')\n",
    "else:\n",
    "    print('no')"
   ]
  },
  {
   "cell_type": "code",
   "execution_count": null,
   "metadata": {},
   "outputs": [
    {
     "data": {
      "text/plain": [
       "[2, 3]"
      ]
     },
     "execution_count": 6,
     "metadata": {},
     "output_type": "execute_result"
    }
   ],
   "source": [
    "a=[1,2,3]\n",
    "a[-2:]"
   ]
  },
  {
   "cell_type": "code",
   "execution_count": null,
   "metadata": {},
   "outputs": [],
   "source": [
    "class IngredientProcessingFSM:\n",
    "    def __init__(self, target_item, env, agent):\n",
    "        current_step_name = \"idle\"\n",
    "        self.target_item = target_item\n",
    "        self.agent = agent\n",
    "        self.env=env\n",
    "        self.target_name = target_item.rawName\n"
   ]
  },
  {
   "cell_type": "code",
   "execution_count": null,
   "metadata": {},
   "outputs": [],
   "source": [
    "test=IngredientProcessingFSM(env.tomato[0],env,env.agent[0])"
   ]
  },
  {
   "cell_type": "code",
   "execution_count": null,
   "metadata": {},
   "outputs": [],
   "source": [
    "class TopFSM:\n",
    "    def __init__(self, env, agent_number):\n",
    "        current_step_name = \"idle\"   #idle,processing,completed\n",
    "        self.task = env.task\n",
    "        self.env = env\n",
    "        self.ingredients_veg = [\"tomato\", \"lettuce\", \"onion\"]\n",
    "        self.ingredients_meat = [\"steak\"]\n",
    "        self.agent = env.agent[agent_number]\n",
    "        self.task_steps = []\n",
    "        self.current_step = 0\n",
    "        self.subtask = None\n",
    "        self.create_step_list()\n",
    "\n",
    "    def create_step_list(self):\n",
    "        # Process vegetable ingredients\n",
    "        for ing in self.ingredients_veg:\n",
    "            if ing in self.task:\n",
    "                self.task_steps.append(self.create_step_dict(ing, 'chopped'))\n",
    "                self.task_steps.append({\"target\": env.plate[0], \"name\": 'plate', \"is_done\": env.plate[0].holding.rawname==ing})\n",
    "                \n",
    "        # Process meat ingredients\n",
    "        for ing in self.ingredients_meat:\n",
    "            if ing in self.task:\n",
    "                self.task_steps.append(self.create_step_dict(ing, 'cooked'))\n",
    "                self.task_steps.append({\"target\": env.plate[0], \"name\": 'plate', \"is_done\": env.plate[0].holding.rawname==ing})\n",
    "\n",
    "    def create_step_dict(self, ing, state_attr):\n",
    "        for target in self.env.itemDic[ing]:\n",
    "            if getattr(target, state_attr):\n",
    "                return {\"target\": target, \"name\": ing, \"is_done\": True}\n",
    "        first_target = self.env.itemDic[ing][0]\n",
    "        return {\"target\": first_target, \"name\": ing, \"is_done\": getattr(first_target, state_attr)}\n",
    "\n",
    "    def reset_state(self):\n",
    "        self.state = \"idle\"\n",
    "        self.current_step = 0\n",
    "        self.subtask = None\n",
    "        self.task=env.task\n",
    "\n",
    "    def update_step_and_creat_subtask(self):\n",
    "        # Update the current step and create subtask\n",
    "        for i in len(self.task_steps):\n",
    "            step=self.task_steps[i]\n",
    "            if step[\"is_done\"] == False:\n",
    "                self.current_step = i\n",
    "                self.state = \"processing\"\n",
    "                if step[\"name\"] in self.ingredients_veg or step[\"name\"] in self.ingredients_meat:\n",
    "                    self.subtask = IngredientProcessingFSM(step[\"target\"], self.env, self.agent)\n",
    "                elif step[\"name\"] == \"plate\":\n",
    "                    self.subtask = CollectingFSM(self.task_steps[i-1][\"target\"], self.env, self.agent)\n",
    "                    \n",
    "\n",
    "    def chooes_macro_action(self):\n",
    "        if self.subtask==None:\n",
    "            self.create_step_list()\n",
    "            self.update_step_and_creat_subtask()\n",
    "        self.subtask.update_state()\n",
    "        if self.subtask.state == \"completed\":\n",
    "            self.create_step_list()\n",
    "            self.update_step_and_creat_subtask()\n",
    "        \n",
    "        action_index = self.subtask.choose_macro_action(self.env.itemDic, self.env.Macro_actions)\n",
    "        return action_index\n",
    "            \n",
    "            \n",
    "            \n",
    "            \n",
    "            \n",
    "class IngredientProcessingFSM:\n",
    "    def __init__(self, target_item, env, agent):\n",
    "        self.state = \"idle\"\n",
    "        self.target_item = target_item\n",
    "        self.agent = agent\n",
    "        self.env=env\n",
    "        self.target_name = target_item.rawName\n",
    "        self.subtask_steps = []\n",
    "        self.current_step = 0\n",
    "        self.create_step_list()\n",
    "\n",
    "    def check_target_position_in_item(self, target, items):\n",
    "        return any(i.holding == target for i in items)\n",
    "\n",
    "    def create_step_list(self):\n",
    "        cutboard_process_ing = [\"tomato\", \"lettuce\", \"onion\"]\n",
    "        cutboard_process = {\n",
    "            \"get ingredients\": self.agent.holding == self.target_item,\n",
    "            \"go to knife\": self.check_target_position_in_item(self.target_item, self.game_items['knife']),\n",
    "            \"chop\": False\n",
    "        }\n",
    "        pan_process_ing = [\"steak\"]\n",
    "        pan_process = {\n",
    "            \"get ingredients\": self.agent.holding == self.target_item,\n",
    "            \"put into the pan\": self.check_target_position_in_item(self.target_item, self.game_items['pan']),\n",
    "            \"wait\": False\n",
    "        }\n",
    "\n",
    "        if self.target_name in cutboard_process_ing:\n",
    "            self.subtask_steps = cutboard_process\n",
    "        elif self.target_name in pan_process_ing:\n",
    "            self.subtask_steps = pan_process\n",
    "        else:\n",
    "            raise ValueError(\"Ingredient not found\")\n",
    "\n",
    "    def update_state(self):\n",
    "        self.create_step_list()\n",
    "        if self.state == \"idle\":\n",
    "            self.state = \"peocessing\"\n",
    "        \n",
    "        for i, (key, value) in enumerate(self.subtask_steps.items()):\n",
    "            if value==False:\n",
    "                self.current_step = i\n",
    "                break\n",
    "        if self.state==\"processing\":\n",
    "            self.state = \"completed\"\n",
    "        \n",
    "\n",
    "    def choose_macro_action(self):\n",
    "        Macro_actions=env.macroActionName\n",
    "        current_step_name=self.subtask_steps.keys()[self.current_step]\n",
    "        \n",
    "        if current_step_name == \"get ingredients\":\n",
    "            action_index = Macro_actions.index(f\"get {self.target_name}\")\n",
    "        elif current_step_name == \"go to knife\":\n",
    "            for knife in self.env.knife:\n",
    "                if knife.holding is None:\n",
    "                    action_index = Macro_actions.index(f\"go to the knife {knife.id}\")\n",
    "                    break\n",
    "        elif current_step_name == \"chop\":\n",
    "            action_index = Macro_actions.index(\"chop\")\n",
    "        elif current_step_name == \"put into the pan\":\n",
    "            for pan in self.env.pan:\n",
    "                if pan.holding is None:\n",
    "                    action_index = Macro_actions.index(f\"go to the pan {pan.id}\")\n",
    "                    break\n",
    "        elif current_step_name == \"wait\":\n",
    "            action_index = 100\n",
    "        else:\n",
    "            action_index = 100\n",
    "            print(\"No available action\")\n",
    "        \n",
    "        return action_index\n",
    "\n",
    "            \n",
    "            \n",
    "class CollectingFSM:\n",
    "    def __init__(self, target_item,env,agent):\n",
    "        self.state = \"idle\"\n",
    "        self.target_item = target_item\n",
    "        self.agent = agent\n",
    "        self.env = env\n",
    "        self.subtask_steps = []\n",
    "        self.current_step = 0\n",
    "        self.create_step_list()\n",
    "        \n",
    "\n",
    "    def create_step_list(self):\n",
    "        return {\n",
    "            \"get plate\": self.agent.holding.rawName == \"plate\",\n",
    "            \"get ingredients\": False\n",
    "        }\n",
    "    \n",
    "    def update_state(self):\n",
    "        self.create_step_list()\n",
    "        if self.state == \"idle\":\n",
    "            self.state = \"peocessing\"\n",
    "        \n",
    "        for i, (key, value) in enumerate(self.subtask_steps.items()):\n",
    "            if value==False:\n",
    "                self.current_step = i\n",
    "                break\n",
    "        if self.state==\"processing\":\n",
    "            self.state = \"completed\"\n",
    "            \n",
    "            \n",
    "    def choose_macro_action(self):\n",
    "        Macro_actions=env.macroActionName\n",
    "        current_step_name=self.subtask_steps.keys()[self.current_step]\n",
    "        \n",
    "        if current_step_name == \"idle\":\n",
    "            self.update_state()\n",
    "        elif current_step_name == \"get plate\":\n",
    "            for plate in self.env.plate:\n",
    "                if plate.containing == None :\n",
    "                    action_index = Macro_actions.index(f\"get plate {plate.id}\")\n",
    "                    break\n",
    "        elif current_step_name == \"get ingredients\":\n",
    "            action_index = Macro_actions.index(f\"get {self.target_item.rawName}\")\n",
    "        elif current_step_name == \"wait\":\n",
    "            action_index = 100\n",
    "        else:\n",
    "            action_index = 100\n",
    "            print(\"No available action\")\n",
    "\n",
    "        return action_index\n",
    "            "
   ]
  },
  {
   "cell_type": "code",
   "execution_count": null,
   "metadata": {},
   "outputs": [
    {
     "name": "stderr",
     "output_type": "stream",
     "text": [
      "ALSA lib confmisc.c:767:(parse_card) cannot find card '0'\n",
      "ALSA lib conf.c:4732:(_snd_config_evaluate) function snd_func_card_driver returned error: No such file or directory\n",
      "ALSA lib confmisc.c:392:(snd_func_concat) error evaluating strings\n",
      "ALSA lib conf.c:4732:(_snd_config_evaluate) function snd_func_concat returned error: No such file or directory\n",
      "ALSA lib confmisc.c:1246:(snd_func_refer) error evaluating name\n",
      "ALSA lib conf.c:4732:(_snd_config_evaluate) function snd_func_refer returned error: No such file or directory\n",
      "ALSA lib conf.c:5220:(snd_config_expand) Evaluate error: No such file or directory\n",
      "ALSA lib pcm.c:2642:(snd_pcm_open_noupdate) Unknown PCM default\n"
     ]
    }
   ],
   "source": [
    "import argparse\n",
    "import os\n",
    "import random\n",
    "import time\n",
    "from distutils.util import strtobool\n",
    "import pygame\n",
    "import gym\n",
    "import numpy as np\n",
    "from gym_macro_overcooked.macActEnvWrapper import MacEnvWrapper\n",
    "from llm_utils import *\n",
    "\n",
    "rewardList = {\"subtask finished\": 10, \"correct delivery\": 200, \"wrong delivery\": -5, \"step penalty\": -0.1}\n",
    "gird_dim=[7,7]\n",
    "env = gym.make('Overcooked-LLMA-v3', grid_dim=gird_dim, task=3, rewardList=rewardList, map_type = \"A\", n_agent = 2, obs_radius = 2, mode = \"vector\", debug = True)"
   ]
  },
  {
   "cell_type": "code",
   "execution_count": null,
   "metadata": {},
   "outputs": [
    {
     "data": {
      "text/plain": [
       "[array([0, 0, 0, 0, 0, 0, 0, 0, 0, 0, 0, 1, 0, 2, 0, 3, 0, 1, 2, 1, 4, 0,\n",
       "        0, 0, 1, 0, 0, 0]),\n",
       " array([0, 5, 0, 1, 6, 0, 2, 6, 0, 0, 0, 0, 0, 0, 0, 0, 0, 1, 2, 1, 4, 0,\n",
       "        0, 0, 1, 0, 0, 0])]"
      ]
     },
     "execution_count": 4,
     "metadata": {},
     "output_type": "execute_result"
    }
   ],
   "source": [
    "env.reset()"
   ]
  },
  {
   "cell_type": "code",
   "execution_count": null,
   "metadata": {},
   "outputs": [
    {
     "data": {
      "text/plain": [
       "array([[[114,  93,  51],\n",
       "        [114,  93,  51],\n",
       "        [114,  93,  51],\n",
       "        ...,\n",
       "        [114,  93,  51],\n",
       "        [114,  93,  51],\n",
       "        [114,  93,  51]],\n",
       "\n",
       "       [[114,  93,  51],\n",
       "        [220, 170, 110],\n",
       "        [220, 170, 110],\n",
       "        ...,\n",
       "        [220, 170, 110],\n",
       "        [220, 170, 110],\n",
       "        [114,  93,  51]],\n",
       "\n",
       "       [[114,  93,  51],\n",
       "        [220, 170, 110],\n",
       "        [220, 170, 110],\n",
       "        ...,\n",
       "        [220, 170, 110],\n",
       "        [220, 170, 110],\n",
       "        [114,  93,  51]],\n",
       "\n",
       "       ...,\n",
       "\n",
       "       [[114,  93,  51],\n",
       "        [220, 170, 110],\n",
       "        [220, 170, 110],\n",
       "        ...,\n",
       "        [220, 170, 110],\n",
       "        [220, 170, 110],\n",
       "        [114,  93,  51]],\n",
       "\n",
       "       [[114,  93,  51],\n",
       "        [220, 170, 110],\n",
       "        [220, 170, 110],\n",
       "        ...,\n",
       "        [220, 170, 110],\n",
       "        [220, 170, 110],\n",
       "        [114,  93,  51]],\n",
       "\n",
       "       [[114,  93,  51],\n",
       "        [114,  93,  51],\n",
       "        [114,  93,  51],\n",
       "        ...,\n",
       "        [114,  93,  51],\n",
       "        [114,  93,  51],\n",
       "        [114,  93,  51]]], dtype=uint8)"
      ]
     },
     "execution_count": 3,
     "metadata": {},
     "output_type": "execute_result"
    }
   ],
   "source": [
    "env.render()"
   ]
  },
  {
   "cell_type": "code",
   "execution_count": null,
   "metadata": {},
   "outputs": [
    {
     "data": {
      "text/plain": [
       "'lettuce-tomato salad'"
      ]
     },
     "execution_count": 2,
     "metadata": {},
     "output_type": "execute_result"
    }
   ],
   "source": [
    "env.task"
   ]
  },
  {
   "cell_type": "code",
   "execution_count": null,
   "metadata": {},
   "outputs": [
    {
     "ename": "AttributeError",
     "evalue": "'Plate' object has no attribute 'holding'",
     "output_type": "error",
     "traceback": [
      "\u001b[0;31m---------------------------------------------------------------------------\u001b[0m",
      "\u001b[0;31mAttributeError\u001b[0m                            Traceback (most recent call last)",
      "\u001b[0;32m/tmp/ipykernel_30726/1732160038.py\u001b[0m in \u001b[0;36m<module>\u001b[0;34m\u001b[0m\n\u001b[0;32m----> 1\u001b[0;31m \u001b[0maifsm\u001b[0m\u001b[0;34m=\u001b[0m\u001b[0mTopFSM\u001b[0m\u001b[0;34m(\u001b[0m\u001b[0menv\u001b[0m\u001b[0;34m,\u001b[0m\u001b[0;36m0\u001b[0m\u001b[0;34m)\u001b[0m\u001b[0;34m\u001b[0m\u001b[0;34m\u001b[0m\u001b[0m\n\u001b[0m",
      "\u001b[0;32m/tmp/ipykernel_30726/2154642788.py\u001b[0m in \u001b[0;36m__init__\u001b[0;34m(self, env, agent_number)\u001b[0m\n\u001b[1;32m     10\u001b[0m         \u001b[0mself\u001b[0m\u001b[0;34m.\u001b[0m\u001b[0mcurrent_step\u001b[0m \u001b[0;34m=\u001b[0m \u001b[0;36m0\u001b[0m\u001b[0;34m\u001b[0m\u001b[0;34m\u001b[0m\u001b[0m\n\u001b[1;32m     11\u001b[0m         \u001b[0mself\u001b[0m\u001b[0;34m.\u001b[0m\u001b[0msubtask\u001b[0m \u001b[0;34m=\u001b[0m \u001b[0;32mNone\u001b[0m\u001b[0;34m\u001b[0m\u001b[0;34m\u001b[0m\u001b[0m\n\u001b[0;32m---> 12\u001b[0;31m         \u001b[0mself\u001b[0m\u001b[0;34m.\u001b[0m\u001b[0mcreate_step_list\u001b[0m\u001b[0;34m(\u001b[0m\u001b[0;34m)\u001b[0m\u001b[0;34m\u001b[0m\u001b[0;34m\u001b[0m\u001b[0m\n\u001b[0m\u001b[1;32m     13\u001b[0m \u001b[0;34m\u001b[0m\u001b[0m\n\u001b[1;32m     14\u001b[0m     \u001b[0;32mdef\u001b[0m \u001b[0mcreate_step_list\u001b[0m\u001b[0;34m(\u001b[0m\u001b[0mself\u001b[0m\u001b[0;34m)\u001b[0m\u001b[0;34m:\u001b[0m\u001b[0;34m\u001b[0m\u001b[0;34m\u001b[0m\u001b[0m\n",
      "\u001b[0;32m/tmp/ipykernel_30726/2154642788.py\u001b[0m in \u001b[0;36mcreate_step_list\u001b[0;34m(self)\u001b[0m\n\u001b[1;32m     17\u001b[0m             \u001b[0;32mif\u001b[0m \u001b[0ming\u001b[0m \u001b[0;32min\u001b[0m \u001b[0mself\u001b[0m\u001b[0;34m.\u001b[0m\u001b[0mtask\u001b[0m\u001b[0;34m:\u001b[0m\u001b[0;34m\u001b[0m\u001b[0;34m\u001b[0m\u001b[0m\n\u001b[1;32m     18\u001b[0m                 \u001b[0mself\u001b[0m\u001b[0;34m.\u001b[0m\u001b[0mtask_steps\u001b[0m\u001b[0;34m.\u001b[0m\u001b[0mappend\u001b[0m\u001b[0;34m(\u001b[0m\u001b[0mself\u001b[0m\u001b[0;34m.\u001b[0m\u001b[0mcreate_step_dict\u001b[0m\u001b[0;34m(\u001b[0m\u001b[0ming\u001b[0m\u001b[0;34m,\u001b[0m \u001b[0;34m'chopped'\u001b[0m\u001b[0;34m)\u001b[0m\u001b[0;34m)\u001b[0m\u001b[0;34m\u001b[0m\u001b[0;34m\u001b[0m\u001b[0m\n\u001b[0;32m---> 19\u001b[0;31m                 \u001b[0mself\u001b[0m\u001b[0;34m.\u001b[0m\u001b[0mtask_steps\u001b[0m\u001b[0;34m.\u001b[0m\u001b[0mappend\u001b[0m\u001b[0;34m(\u001b[0m\u001b[0;34m{\u001b[0m\u001b[0;34m\"target\"\u001b[0m\u001b[0;34m:\u001b[0m \u001b[0menv\u001b[0m\u001b[0;34m.\u001b[0m\u001b[0mplate\u001b[0m\u001b[0;34m[\u001b[0m\u001b[0;36m0\u001b[0m\u001b[0;34m]\u001b[0m\u001b[0;34m,\u001b[0m \u001b[0;34m\"name\"\u001b[0m\u001b[0;34m:\u001b[0m \u001b[0;34m'plate'\u001b[0m\u001b[0;34m,\u001b[0m \u001b[0;34m\"is_done\"\u001b[0m\u001b[0;34m:\u001b[0m \u001b[0menv\u001b[0m\u001b[0;34m.\u001b[0m\u001b[0mplate\u001b[0m\u001b[0;34m[\u001b[0m\u001b[0;36m0\u001b[0m\u001b[0;34m]\u001b[0m\u001b[0;34m.\u001b[0m\u001b[0mholding\u001b[0m\u001b[0;34m.\u001b[0m\u001b[0mrawname\u001b[0m\u001b[0;34m==\u001b[0m\u001b[0ming\u001b[0m\u001b[0;34m}\u001b[0m\u001b[0;34m)\u001b[0m\u001b[0;34m\u001b[0m\u001b[0;34m\u001b[0m\u001b[0m\n\u001b[0m\u001b[1;32m     20\u001b[0m \u001b[0;34m\u001b[0m\u001b[0m\n\u001b[1;32m     21\u001b[0m         \u001b[0;31m# Process meat ingredients\u001b[0m\u001b[0;34m\u001b[0m\u001b[0;34m\u001b[0m\u001b[0;34m\u001b[0m\u001b[0m\n",
      "\u001b[0;31mAttributeError\u001b[0m: 'Plate' object has no attribute 'holding'"
     ]
    }
   ],
   "source": [
    "aifsm=TopFSM(env,0)"
   ]
  },
  {
   "cell_type": "code",
   "execution_count": null,
   "metadata": {},
   "outputs": [
    {
     "ename": "ValueError",
     "evalue": "'get' is not in list",
     "output_type": "error",
     "traceback": [
      "\u001b[0;31m---------------------------------------------------------------------------\u001b[0m",
      "\u001b[0;31mValueError\u001b[0m                                Traceback (most recent call last)",
      "\u001b[0;32m/tmp/ipykernel_8198/962804432.py\u001b[0m in \u001b[0;36m<module>\u001b[0;34m\u001b[0m\n\u001b[1;32m      1\u001b[0m \u001b[0mMacro_actions\u001b[0m\u001b[0;34m=\u001b[0m\u001b[0;34m[\u001b[0m\u001b[0;34m\"get tomato\"\u001b[0m\u001b[0;34m,\u001b[0m \u001b[0;34m\"get lettuce\"\u001b[0m\u001b[0;34m,\u001b[0m \u001b[0;34m\"get onion\"\u001b[0m\u001b[0;34m,\u001b[0m \u001b[0;34m\"get plate 1\"\u001b[0m\u001b[0;34m,\u001b[0m \u001b[0;34m\"go to knife 1\"\u001b[0m\u001b[0;34m,\u001b[0m \u001b[0;34m\"go to knife 2\"\u001b[0m\u001b[0;34m,\u001b[0m \u001b[0;34m\"deliver\"\u001b[0m\u001b[0;34m,\u001b[0m \u001b[0;34m\"chop\"\u001b[0m\u001b[0;34m]\u001b[0m\u001b[0;34m\u001b[0m\u001b[0;34m\u001b[0m\u001b[0m\n\u001b[0;32m----> 2\u001b[0;31m \u001b[0mMacro_actions\u001b[0m\u001b[0;34m.\u001b[0m\u001b[0mindex\u001b[0m\u001b[0;34m(\u001b[0m\u001b[0;34m\"get\"\u001b[0m\u001b[0;34m)\u001b[0m\u001b[0;34m\u001b[0m\u001b[0;34m\u001b[0m\u001b[0m\n\u001b[0m",
      "\u001b[0;31mValueError\u001b[0m: 'get' is not in list"
     ]
    }
   ],
   "source": [
    "Macro_actions=[\"get tomato\", \"get lettuce\", \"get onion\", \"get plate 1\", \"go to knife 1\", \"go to knife 2\", \"deliver\", \"chop\"]\n",
    "search_keyword=\"get\"\n",
    "index=[i for i, x in enumerate(Macro_actions) if x == search_keyword]"
   ]
  },
  {
   "cell_type": "code",
   "execution_count": null,
   "metadata": {},
   "outputs": [
    {
     "ename": "KeyError",
     "evalue": "0",
     "output_type": "error",
     "traceback": [
      "\u001b[0;31m---------------------------------------------------------------------------\u001b[0m",
      "\u001b[0;31mKeyError\u001b[0m                                  Traceback (most recent call last)",
      "\u001b[0;32m/tmp/ipykernel_8198/689305451.py\u001b[0m in \u001b[0;36m<module>\u001b[0;34m\u001b[0m\n\u001b[1;32m      3\u001b[0m \u001b[0;34m\u001b[0m\u001b[0m\n\u001b[1;32m      4\u001b[0m \u001b[0mcutboard_process\u001b[0m\u001b[0;34m=\u001b[0m\u001b[0;34m{\u001b[0m\u001b[0;34m\"get ingredients\"\u001b[0m\u001b[0;34m:\u001b[0m\u001b[0;32mFalse\u001b[0m\u001b[0;34m,\u001b[0m\u001b[0;34m\"chop ingredients\"\u001b[0m\u001b[0;34m:\u001b[0m\u001b[0;32mFalse\u001b[0m\u001b[0;34m,\u001b[0m\u001b[0;34m\"put into the plate\"\u001b[0m\u001b[0;34m:\u001b[0m\u001b[0;32mFalse\u001b[0m\u001b[0;34m}\u001b[0m\u001b[0;34m\u001b[0m\u001b[0;34m\u001b[0m\u001b[0m\n\u001b[0;32m----> 5\u001b[0;31m \u001b[0mcutboard_process\u001b[0m\u001b[0;34m[\u001b[0m\u001b[0;36m0\u001b[0m\u001b[0;34m]\u001b[0m\u001b[0;34m\u001b[0m\u001b[0;34m\u001b[0m\u001b[0m\n\u001b[0m",
      "\u001b[0;31mKeyError\u001b[0m: 0"
     ]
    }
   ],
   "source": [
    "process_state=[\"get ingredients\",\"chop ingredients\",\"put into the plate\"]\n",
    "state=\"get ingredients\"\n",
    "\n",
    "cutboard_process={\"get ingredients\":False,\"chop ingredients\":False,\"put into the plate\":False}\n",
    "cutboard_process[0]"
   ]
  },
  {
   "cell_type": "code",
   "execution_count": null,
   "metadata": {},
   "outputs": [],
   "source": [
    "# 示例游戏状态\n",
    "game_state = {\n",
    "    \"has_tomato\": False,\n",
    "    \"has_lettuce\": False,\n",
    "    \"has_onion\": False,\n",
    "    \"has_steak\": False\n",
    "}"
   ]
  },
  {
   "cell_type": "code",
   "execution_count": null,
   "metadata": {},
   "outputs": [],
   "source": [
    "\n",
    "# 示例游戏状态\n",
    "game_state = {\n",
    "    \"has_tomato\": False,\n",
    "    \"has_lettuce\": False,\n",
    "    \"has_onion\": False,\n",
    "    \"has_steak\": False\n",
    "}\n",
    "\n",
    "# 创建FSM并设置任务\n",
    "fsm = FSM()\n",
    "fsm.set_task(\"steak with lettuce and tomato and onion\")\n",
    "\n",
    "# 更新和执行状态\n",
    "fsm.update_state(game_state)\n",
    "action = fsm.perform_action(game_state)\n",
    "print(f\"Action: {action}\")  # Collect steak\n",
    "\n",
    "# 更新游戏状态以模拟任务进展\n",
    "game_state[\"has_steak\"] = True\n",
    "fsm.update_state(game_state)\n",
    "action = fsm.perform_action(game_state)\n",
    "print(f\"Action: {action}\")  # Cook steak\n",
    "\n",
    "game_state[\"has_tomato\"] = True\n",
    "game_state[\"has_lettuce\"] = True\n",
    "game_state[\"has_onion\"] = True\n",
    "fsm.update_state(game_state)\n",
    "action = fsm.perform_action(game_state)\n",
    "print(f\"Action: {action}\")  # Cut ingredients\n",
    "\n",
    "game_state[\"has_tomato\"] = False  # Simulate cutting vegetables\n",
    "game_state[\"has_lettuce\"] = False\n",
    "game_state[\"has_onion\"] = False\n",
    "fsm.update_state(game_state)\n",
    "action = fsm.perform_action(game_state)\n",
    "print(f\"Action: {action}\")  # Serve\n"
   ]
  },
  {
   "cell_type": "code",
   "execution_count": null,
   "metadata": {},
   "outputs": [],
   "source": [
    "top_fsm = TopFSM('tomato', env, env.agent[0])\n",
    "\n"
   ]
  },
  {
   "cell_type": "code",
   "execution_count": null,
   "metadata": {},
   "outputs": [],
   "source": [
    "action = top_fsm.perform_action()\n",
    "new_obs, reward, done, info = env.step([action])\n",
    "top_fsm.update_state()"
   ]
  },
  {
   "cell_type": "code",
   "execution_count": null,
   "metadata": {},
   "outputs": [],
   "source": []
  },
  {
   "cell_type": "code",
   "execution_count": null,
   "metadata": {},
   "outputs": [],
   "source": [
    "map_setting = open(\"gym_macro_overcooked/maps/\"+\"MapC\"+\".yaml\", \"r\")"
   ]
  },
  {
   "cell_type": "code",
   "execution_count": null,
   "metadata": {},
   "outputs": [],
   "source": [
    "class Test:\n",
    "    def __init__(self):\n",
    "        self.a=1\n",
    "        self.b=2\n",
    "        self.c=3\n",
    "    def __str__(self):\n",
    "        return f\"a:{self.a},b:{self.b},c:{self.c}\"\n",
    "    \n",
    "A=Test()\n",
    "b=A.b\n",
    "A.b=A.b*2\n",
    "c=A.c\n",
    "c=c*2"
   ]
  },
  {
   "cell_type": "code",
   "execution_count": null,
   "metadata": {},
   "outputs": [
    {
     "name": "stdout",
     "output_type": "stream",
     "text": [
      "a:1, b:4, c:6\n",
      "2\n",
      "3\n"
     ]
    }
   ],
   "source": [
    "class Test:\n",
    "    def __init__(self):\n",
    "        self.values = {'a': 1, 'b': 2, 'c': 3}\n",
    "\n",
    "    def __str__(self):\n",
    "        return f\"a:{self.values['a']}, b:{self.values['b']}, c:{self.values['c']}\"\n",
    "\n",
    "A = Test()\n",
    "b = A.values['b']\n",
    "A.values['b'] = A.values['b'] * 2\n",
    "c = A.values['c']\n",
    "A.values['c'] *= 2\n",
    "\n",
    "print(A)  # 输出：a:1, b:4, c:6\n",
    "print(b)  # 输出：2\n",
    "print(c)  # 输出：3"
   ]
  },
  {
   "cell_type": "code",
   "execution_count": null,
   "metadata": {},
   "outputs": [
    {
     "data": {
      "text/plain": [
       "['space',\n",
       " 'counter',\n",
       " 'agent',\n",
       " 'tomato',\n",
       " 'lettuce',\n",
       " 'plate',\n",
       " 'knife',\n",
       " 'delivery',\n",
       " 'onion',\n",
       " 'pan',\n",
       " 'steak',\n",
       " 'sink',\n",
       " 'trash_can']"
      ]
     },
     "execution_count": 7,
     "metadata": {},
     "output_type": "execute_result"
    }
   ],
   "source": [
    "ITEMIDX = {\n",
    "    \"space\": 0,\n",
    "    \"counter\": 1,\n",
    "    \"agent\": 2,\n",
    "    \"tomato\": 3,\n",
    "    \"lettuce\": 4,\n",
    "    \"plate\": 5,\n",
    "    \"knife\": 6,\n",
    "    \"delivery\": 7,\n",
    "    \"onion\": 8,\n",
    "    \"pan\": 9,\n",
    "    \"steak\": 10,\n",
    "    \"sink\": 11,\n",
    "    \"trash_can\": 12,\n",
    "}\n",
    "#get dict keys by list of values\n",
    "list(ITEMIDX.keys())"
   ]
  },
  {
   "cell_type": "code",
   "execution_count": null,
   "metadata": {},
   "outputs": [
    {
     "name": "stdout",
     "output_type": "stream",
     "text": [
      "no\n",
      "yes\n"
     ]
    }
   ],
   "source": [
    "def text():\n",
    "    print(\"no\")\n",
    "    return True\n",
    "\n",
    "if text():\n",
    "    print('yes')"
   ]
  },
  {
   "cell_type": "code",
   "execution_count": 9,
   "metadata": {},
   "outputs": [
    {
     "name": "stdout",
     "output_type": "stream",
     "text": [
      "Key: s\n",
      "Reward: [-0.1], Done: False, Info: {'cur_mac': [1], 'mac_done': [True], 'collision': []}\n",
      "Key: a\n",
      "Reward: [-0.1], Done: False, Info: {'cur_mac': [2], 'mac_done': [True], 'collision': []}\n",
      "Key: w\n",
      "Reward: [-0.1], Done: False, Info: {'cur_mac': [3], 'mac_done': [True], 'collision': []}\n",
      "Key: d\n",
      "Reward: [-0.1], Done: False, Info: {'cur_mac': [0], 'mac_done': [True], 'collision': []}\n",
      "Key: s\n",
      "Reward: [-0.1], Done: False, Info: {'cur_mac': [1], 'mac_done': [True], 'collision': []}\n",
      "Key: a\n",
      "Reward: [-0.1], Done: False, Info: {'cur_mac': [2], 'mac_done': [True], 'collision': []}\n",
      "Key: w\n",
      "Reward: [-0.1], Done: False, Info: {'cur_mac': [3], 'mac_done': [True], 'collision': []}\n",
      "Key: d\n",
      "Reward: [-0.1], Done: False, Info: {'cur_mac': [0], 'mac_done': [True], 'collision': []}\n",
      "Key: d\n",
      "Reward: [-0.1], Done: False, Info: {'cur_mac': [0], 'mac_done': [True], 'collision': []}\n",
      "Key: a\n",
      "Reward: [-0.1], Done: False, Info: {'cur_mac': [2], 'mac_done': [True], 'collision': []}\n",
      "Key: a\n",
      "Reward: [-0.1], Done: False, Info: {'cur_mac': [2], 'mac_done': [True], 'collision': []}\n",
      "Key: s\n",
      "Reward: [-0.1], Done: False, Info: {'cur_mac': [1], 'mac_done': [True], 'collision': []}\n",
      "Key: s\n",
      "Reward: [-0.1], Done: False, Info: {'cur_mac': [1], 'mac_done': [True], 'collision': []}\n",
      "Key: s\n",
      "Reward: [-0.1], Done: False, Info: {'cur_mac': [1], 'mac_done': [True], 'collision': []}\n",
      "Key: s\n",
      "Reward: [-0.1], Done: False, Info: {'cur_mac': [1], 'mac_done': [True], 'collision': []}\n",
      "Key: s\n",
      "Reward: [-0.1], Done: False, Info: {'cur_mac': [1], 'mac_done': [True], 'collision': []}\n",
      "Key: s\n",
      "Reward: [-0.1], Done: False, Info: {'cur_mac': [1], 'mac_done': [True], 'collision': []}\n",
      "Key: s\n",
      "Reward: [-0.1], Done: False, Info: {'cur_mac': [1], 'mac_done': [True], 'collision': []}\n",
      "Key: d\n",
      "Reward: [-0.1], Done: False, Info: {'cur_mac': [0], 'mac_done': [True], 'collision': []}\n",
      "Key: w\n",
      "Reward: [-0.1], Done: False, Info: {'cur_mac': [3], 'mac_done': [True], 'collision': []}\n",
      "Key: d\n",
      "Reward: [-0.1], Done: False, Info: {'cur_mac': [0], 'mac_done': [True], 'collision': []}\n",
      "Key: d\n",
      "Reward: [-0.1], Done: False, Info: {'cur_mac': [0], 'mac_done': [True], 'collision': []}\n",
      "Key: a\n",
      "Reward: [-0.1], Done: False, Info: {'cur_mac': [2], 'mac_done': [True], 'collision': []}\n",
      "Key: w\n",
      "Reward: [-0.1], Done: False, Info: {'cur_mac': [3], 'mac_done': [True], 'collision': []}\n",
      "Key: w\n",
      "Reward: [-0.1], Done: False, Info: {'cur_mac': [3], 'mac_done': [True], 'collision': []}\n",
      "Key: w\n",
      "Reward: [-0.1], Done: False, Info: {'cur_mac': [3], 'mac_done': [True], 'collision': []}\n",
      "Key: w\n",
      "Reward: [-0.1], Done: False, Info: {'cur_mac': [3], 'mac_done': [True], 'collision': []}\n",
      "Key: w\n",
      "Reward: [-0.1], Done: False, Info: {'cur_mac': [3], 'mac_done': [True], 'collision': []}\n",
      "Key: d\n",
      "Reward: [-0.1], Done: False, Info: {'cur_mac': [0], 'mac_done': [True], 'collision': []}\n",
      "Key: w\n",
      "Reward: [-0.1], Done: False, Info: {'cur_mac': [3], 'mac_done': [True], 'collision': []}\n"
     ]
    },
    {
     "ename": "",
     "evalue": "",
     "output_type": "error",
     "traceback": [
      "\u001b[1;31mThe Kernel crashed while executing code in the current cell or a previous cell. \n",
      "\u001b[1;31mPlease review the code in the cell(s) to identify a possible cause of the failure. \n",
      "\u001b[1;31mClick <a href='https://aka.ms/vscodeJupyterKernelCrash'>here</a> for more info. \n",
      "\u001b[1;31mView Jupyter <a href='command:jupyter.viewOutput'>log</a> for further details."
     ]
    }
   ],
   "source": [
    "import argparse\n",
    "import os\n",
    "import random\n",
    "import time\n",
    "from distutils.util import strtobool\n",
    "import pygame\n",
    "import gym\n",
    "import numpy as np\n",
    "from gym_macro_overcooked.macActEnvWrapper import MacEnvWrapper\n",
    "\n",
    "# from llm_utils import *\n",
    "\n",
    "rewardList = {\n",
    "    \"subtask finished\": 10,\n",
    "    \"correct delivery\": 200,\n",
    "    \"wrong delivery\": -5,\n",
    "    \"step penalty\": -0.1,\n",
    "}\n",
    "\n",
    "env = gym.make(\n",
    "    \"Dynamic-v3\",\n",
    "    task=3,\n",
    "    rewardList=rewardList,\n",
    "    n_agent=1,\n",
    "    obs_radius=2,\n",
    "    obs_mode=\"vector\",\n",
    "    debug=True,\n",
    ")\n",
    "# env = gym.make('Overcooked-LLMA-v3', grid_dim=gird_dim, task=3, rewardList=rewardList, map_type = \"A\", n_agent = 1, obs_radius = 2, mode = \"vector\", debug = True)\n",
    "env.reset()\n",
    "\n",
    "\n",
    "# 给我写一个将键盘WASD输入转换为动作的函数\n",
    "def key2action(key):\n",
    "    if key == \"d\":\n",
    "        return 0\n",
    "    elif key == \"s\":\n",
    "        return 1\n",
    "    elif key == \"a\":\n",
    "        return 2\n",
    "    elif key == \"w\":\n",
    "        return 3\n",
    "    else:\n",
    "        return None\n",
    "\n",
    "\n",
    "# 开始游戏，使用WASD控制移动\n",
    "done = False\n",
    "# env._apply_diff()\n",
    "obs = env.reset()\n",
    "while done == False:\n",
    "    env.render()\n",
    "    for event in pygame.event.get():\n",
    "        if event.type == pygame.QUIT:\n",
    "            done = True\n",
    "        elif event.type == pygame.KEYDOWN:\n",
    "            key = pygame.key.name(event.key)\n",
    "            print(f\"Key: {key}\")\n",
    "            action = key2action(key)\n",
    "            if action is not None:\n",
    "                new_obs, reward, done, info = env.step([action])\n",
    "                print(f\"Reward: {reward}, Done: {done}, Info: {info}\")\n",
    "                obs = new_obs\n"
   ]
  },
  {
   "cell_type": "code",
   "execution_count": 1,
   "metadata": {},
   "outputs": [
    {
     "name": "stdout",
     "output_type": "stream",
     "text": [
      "pygame 2.5.2 (SDL 2.28.3, Python 3.9.7)\n",
      "Hello from the pygame community. https://www.pygame.org/contribute.html\n"
     ]
    }
   ],
   "source": [
    "import argparse\n",
    "import os\n",
    "import random\n",
    "import time\n",
    "from distutils.util import strtobool\n",
    "import pygame\n",
    "import gym\n",
    "import numpy as np\n",
    "from gym_macro_overcooked.macActEnvWrapper import MacEnvWrapper\n",
    "\n",
    "# from llm_utils import *\n",
    "\n",
    "rewardList = {\n",
    "    \"subtask finished\": 10,\n",
    "    \"correct delivery\": 200,\n",
    "    \"wrong delivery\": -5,\n",
    "    \"step penalty\": -0.1,\n",
    "    \"burned penalty\": -2,\n",
    "}\n",
    "\n",
    "env = gym.make(\n",
    "    \"Dynamic-v3\",\n",
    "    n_task=2,\n",
    "    rewardList=rewardList,\n",
    "    n_agent=1,\n",
    "    obs_radius=2,\n",
    "    obs_mode=\"vector\",\n",
    "    debug=True,\n",
    ")\n",
    "# env = gym.make('Overcooked-LLMA-v3', grid_dim=gird_dim, task=3, rewardList=rewardList, map_type = \"A\", n_agent = 1, obs_radius = 2, mode = \"vector\", debug = True)\n",
    "#env.reset()"
   ]
  },
  {
   "cell_type": "code",
   "execution_count": 4,
   "metadata": {},
   "outputs": [
    {
     "data": {
      "text/plain": [
       "[array([0.77777778, 0.88888889, 0.55555556, 0.88888889, 0.66666667,\n",
       "        0.88888889, 0.33333333, 0.88888889, 0.        , 0.55555556,\n",
       "        0.        , 0.77777778, 0.44444444, 0.        , 0.11111111,\n",
       "        0.77777778, 0.88888889, 0.55555556, 0.11111111, 0.88888889,\n",
       "        0.88888889, 0.77777778, 0.88888889, 0.11111111, 0.        ,\n",
       "        0.        , 0.        , 0.11111111, 0.        , 0.22222222,\n",
       "        0.        , 0.33333333, 0.        , 0.44444444, 0.        ,\n",
       "        0.55555556, 0.        , 0.66666667, 0.        , 0.77777778,\n",
       "        0.        , 0.88888889, 0.11111111, 0.        , 0.11111111,\n",
       "        0.33333333, 0.11111111, 0.77777778, 0.11111111, 0.88888889,\n",
       "        0.22222222, 0.        , 0.22222222, 0.33333333, 0.22222222,\n",
       "        0.88888889, 0.33333333, 0.        , 0.33333333, 0.33333333,\n",
       "        0.33333333, 0.88888889, 0.44444444, 0.        , 0.44444444,\n",
       "        0.33333333, 0.44444444, 0.44444444, 0.44444444, 0.77777778,\n",
       "        0.44444444, 0.88888889, 0.55555556, 0.        , 0.55555556,\n",
       "        0.88888889, 0.66666667, 0.        , 0.66666667, 0.88888889,\n",
       "        0.77777778, 0.        , 0.77777778, 0.88888889, 0.88888889,\n",
       "        0.        , 0.88888889, 0.11111111, 0.88888889, 0.22222222,\n",
       "        0.88888889, 0.33333333, 0.88888889, 0.44444444, 0.88888889,\n",
       "        0.55555556, 0.88888889, 0.66666667, 0.88888889, 0.77777778,\n",
       "        0.88888889, 0.88888889, 1.        , 0.        , 1.        ,\n",
       "        1.        , 0.        , 1.        , 0.        , 0.        ])]"
      ]
     },
     "execution_count": 4,
     "metadata": {},
     "output_type": "execute_result"
    }
   ],
   "source": [
    "env.reset()"
   ]
  },
  {
   "cell_type": "code",
   "execution_count": 5,
   "metadata": {},
   "outputs": [
    {
     "data": {
      "text/plain": [
       "[{'ingredients': ('tomato', 'onion', 'steak'), 'task_encoding': [1, 0, 1, 1]},\n",
       " {'ingredients': ('lettuce',), 'task_encoding': [0, 1, 0, 0]}]"
      ]
     },
     "execution_count": 5,
     "metadata": {},
     "output_type": "execute_result"
    }
   ],
   "source": [
    "env.tasks"
   ]
  },
  {
   "cell_type": "code",
   "execution_count": 6,
   "metadata": {},
   "outputs": [
    {
     "data": {
      "text/plain": [
       "[{'ingredients': ('tomato',), 'task_encoding': [1, 0, 0, 0]},\n",
       " {'ingredients': ('tomato', 'onion'), 'task_encoding': [1, 0, 1, 0]}]"
      ]
     },
     "execution_count": 6,
     "metadata": {},
     "output_type": "execute_result"
    }
   ],
   "source": [
    "env.eventManager.tasks"
   ]
  },
  {
   "cell_type": "code",
   "execution_count": 6,
   "metadata": {},
   "outputs": [
    {
     "data": {
      "text/plain": [
       "[array([0.77777778, 0.88888889, 0.55555556, 0.88888889, 0.66666667,\n",
       "        0.88888889, 0.33333333, 0.88888889, 0.        , 0.55555556,\n",
       "        0.        , 0.77777778, 0.44444444, 0.        , 0.11111111,\n",
       "        0.77777778, 0.88888889, 0.55555556, 0.11111111, 0.88888889,\n",
       "        0.88888889, 0.77777778, 0.88888889, 0.11111111, 0.        ,\n",
       "        0.        , 0.        , 0.11111111, 0.        , 0.22222222,\n",
       "        0.        , 0.33333333, 0.        , 0.44444444, 0.        ,\n",
       "        0.55555556, 0.        , 0.66666667, 0.        , 0.77777778,\n",
       "        0.        , 0.88888889, 0.11111111, 0.        , 0.11111111,\n",
       "        0.33333333, 0.11111111, 0.77777778, 0.11111111, 0.88888889,\n",
       "        0.22222222, 0.        , 0.22222222, 0.33333333, 0.22222222,\n",
       "        0.88888889, 0.33333333, 0.        , 0.33333333, 0.33333333,\n",
       "        0.33333333, 0.88888889, 0.44444444, 0.        , 0.44444444,\n",
       "        0.33333333, 0.44444444, 0.44444444, 0.44444444, 0.77777778,\n",
       "        0.44444444, 0.88888889, 0.55555556, 0.        , 0.55555556,\n",
       "        0.88888889, 0.66666667, 0.        , 0.66666667, 0.88888889,\n",
       "        0.77777778, 0.        , 0.77777778, 0.88888889, 0.88888889,\n",
       "        0.        , 0.88888889, 0.11111111, 0.88888889, 0.22222222,\n",
       "        0.88888889, 0.33333333, 0.88888889, 0.44444444, 0.88888889,\n",
       "        0.55555556, 0.88888889, 0.66666667, 0.88888889, 0.77777778,\n",
       "        0.88888889, 0.88888889, 0.        , 1.        , 0.        ,\n",
       "        1.        , 0.        , 1.        , 0.        , 0.        ])]"
      ]
     },
     "execution_count": 6,
     "metadata": {},
     "output_type": "execute_result"
    }
   ],
   "source": [
    "env.reset()"
   ]
  },
  {
   "cell_type": "code",
   "execution_count": 7,
   "metadata": {},
   "outputs": [
    {
     "data": {
      "text/plain": [
       "[{'ingredients': ('lettuce', 'steak'), 'task_encoding': [0, 1, 0, 1]},\n",
       " {'ingredients': ('lettuce',), 'task_encoding': [0, 1, 0, 0]}]"
      ]
     },
     "execution_count": 7,
     "metadata": {},
     "output_type": "execute_result"
    }
   ],
   "source": [
    "env.tasks"
   ]
  },
  {
   "cell_type": "code",
   "execution_count": 8,
   "metadata": {},
   "outputs": [
    {
     "data": {
      "text/plain": [
       "[{'ingredients': ('lettuce', 'steak'), 'task_encoding': [0, 1, 0, 1]},\n",
       " {'ingredients': ('lettuce',), 'task_encoding': [0, 1, 0, 0]}]"
      ]
     },
     "execution_count": 8,
     "metadata": {},
     "output_type": "execute_result"
    }
   ],
   "source": [
    "env.taskManager.tasks"
   ]
  },
  {
   "cell_type": "code",
   "execution_count": 9,
   "metadata": {},
   "outputs": [
    {
     "data": {
      "text/plain": [
       "array([[[114,  93,  51],\n",
       "        [114,  93,  51],\n",
       "        [114,  93,  51],\n",
       "        ...,\n",
       "        [114,  93,  51],\n",
       "        [114,  93,  51],\n",
       "        [114,  93,  51]],\n",
       "\n",
       "       [[114,  93,  51],\n",
       "        [220, 170, 110],\n",
       "        [220, 170, 110],\n",
       "        ...,\n",
       "        [220, 170, 110],\n",
       "        [220, 170, 110],\n",
       "        [114,  93,  51]],\n",
       "\n",
       "       [[114,  93,  51],\n",
       "        [220, 170, 110],\n",
       "        [220, 170, 110],\n",
       "        ...,\n",
       "        [220, 170, 110],\n",
       "        [220, 170, 110],\n",
       "        [114,  93,  51]],\n",
       "\n",
       "       ...,\n",
       "\n",
       "       [[114,  93,  51],\n",
       "        [220, 170, 110],\n",
       "        [220, 170, 110],\n",
       "        ...,\n",
       "        [220, 170, 110],\n",
       "        [220, 170, 110],\n",
       "        [114,  93,  51]],\n",
       "\n",
       "       [[114,  93,  51],\n",
       "        [220, 170, 110],\n",
       "        [220, 170, 110],\n",
       "        ...,\n",
       "        [220, 170, 110],\n",
       "        [220, 170, 110],\n",
       "        [114,  93,  51]],\n",
       "\n",
       "       [[114,  93,  51],\n",
       "        [114,  93,  51],\n",
       "        [114,  93,  51],\n",
       "        ...,\n",
       "        [114,  93,  51],\n",
       "        [114,  93,  51],\n",
       "        [114,  93,  51]]], dtype=uint8)"
      ]
     },
     "execution_count": 9,
     "metadata": {},
     "output_type": "execute_result"
    }
   ],
   "source": [
    "env.render()"
   ]
  },
  {
   "cell_type": "code",
   "execution_count": 7,
   "metadata": {},
   "outputs": [
    {
     "name": "stdout",
     "output_type": "stream",
     "text": [
      "Key: s\n",
      "Reward: [-0.1], Done: False, Info: {'cur_mac': [1], 'mac_done': [True], 'collision': []}\n",
      "Key: s\n",
      "Reward: [-0.1], Done: False, Info: {'cur_mac': [1], 'mac_done': [True], 'collision': []}\n",
      "Key: s\n",
      "Reward: [-0.1], Done: False, Info: {'cur_mac': [1], 'mac_done': [True], 'collision': []}\n",
      "Key: s\n",
      "Reward: [-0.1], Done: False, Info: {'cur_mac': [1], 'mac_done': [True], 'collision': []}\n",
      "Key: a\n",
      "Reward: [-0.1], Done: False, Info: {'cur_mac': [2], 'mac_done': [True], 'collision': []}\n",
      "Key: w\n",
      "Reward: [-0.1], Done: False, Info: {'cur_mac': [3], 'mac_done': [True], 'collision': []}\n"
     ]
    },
    {
     "ename": "KeyboardInterrupt",
     "evalue": "",
     "output_type": "error",
     "traceback": [
      "\u001b[1;31m---------------------------------------------------------------------------\u001b[0m",
      "\u001b[1;31mKeyboardInterrupt\u001b[0m                         Traceback (most recent call last)",
      "Cell \u001b[1;32mIn[7], line 57\u001b[0m\n\u001b[0;32m     54\u001b[0m clock \u001b[38;5;241m=\u001b[39m pygame\u001b[38;5;241m.\u001b[39mtime\u001b[38;5;241m.\u001b[39mClock()\n\u001b[0;32m     56\u001b[0m \u001b[38;5;28;01mwhile\u001b[39;00m \u001b[38;5;129;01mnot\u001b[39;00m done:\n\u001b[1;32m---> 57\u001b[0m     \u001b[43menv\u001b[49m\u001b[38;5;241;43m.\u001b[39;49m\u001b[43mrender\u001b[49m\u001b[43m(\u001b[49m\u001b[43m)\u001b[49m\n\u001b[0;32m     59\u001b[0m     \u001b[38;5;28;01mfor\u001b[39;00m event \u001b[38;5;129;01min\u001b[39;00m pygame\u001b[38;5;241m.\u001b[39mevent\u001b[38;5;241m.\u001b[39mget():\n\u001b[0;32m     60\u001b[0m         \u001b[38;5;28;01mif\u001b[39;00m event\u001b[38;5;241m.\u001b[39mtype \u001b[38;5;241m==\u001b[39m pygame\u001b[38;5;241m.\u001b[39mQUIT:\n",
      "File \u001b[1;32mc:\\Users\\pureb\\anaconda3\\envs\\MC\\lib\\site-packages\\gym\\core.py:295\u001b[0m, in \u001b[0;36mWrapper.render\u001b[1;34m(self, mode, **kwargs)\u001b[0m\n\u001b[0;32m    294\u001b[0m \u001b[38;5;28;01mdef\u001b[39;00m \u001b[38;5;21mrender\u001b[39m(\u001b[38;5;28mself\u001b[39m, mode\u001b[38;5;241m=\u001b[39m\u001b[38;5;124m\"\u001b[39m\u001b[38;5;124mhuman\u001b[39m\u001b[38;5;124m\"\u001b[39m, \u001b[38;5;241m*\u001b[39m\u001b[38;5;241m*\u001b[39mkwargs):\n\u001b[1;32m--> 295\u001b[0m     \u001b[38;5;28;01mreturn\u001b[39;00m \u001b[38;5;28mself\u001b[39m\u001b[38;5;241m.\u001b[39menv\u001b[38;5;241m.\u001b[39mrender(mode, \u001b[38;5;241m*\u001b[39m\u001b[38;5;241m*\u001b[39mkwargs)\n",
      "File \u001b[1;32mc:\\Users\\pureb\\OneDrive\\Overcooked\\src\\gym_macro_overcooked\\dyna_overcooked_V3.py:255\u001b[0m, in \u001b[0;36mDynamic_Overcooked_V3.render\u001b[1;34m(self, mode)\u001b[0m\n\u001b[0;32m    254\u001b[0m \u001b[38;5;28;01mdef\u001b[39;00m \u001b[38;5;21mrender\u001b[39m(\u001b[38;5;28mself\u001b[39m, mode\u001b[38;5;241m=\u001b[39m\u001b[38;5;124m\"\u001b[39m\u001b[38;5;124mhuman\u001b[39m\u001b[38;5;124m\"\u001b[39m):\n\u001b[1;32m--> 255\u001b[0m     \u001b[38;5;28;01mreturn\u001b[39;00m \u001b[38;5;28;43mself\u001b[39;49m\u001b[38;5;241;43m.\u001b[39;49m\u001b[43mgame\u001b[49m\u001b[38;5;241;43m.\u001b[39;49m\u001b[43mon_render\u001b[49m\u001b[43m(\u001b[49m\u001b[43m)\u001b[49m\n",
      "File \u001b[1;32mc:\\Users\\pureb\\OneDrive\\Overcooked\\src\\gym_macro_overcooked\\render\\game.py:229\u001b[0m, in \u001b[0;36mGame.on_render\u001b[1;34m(self)\u001b[0m\n\u001b[0;32m    227\u001b[0m         color \u001b[38;5;241m=\u001b[39m pygame\u001b[38;5;241m.\u001b[39mColor(img_int[i][j])\n\u001b[0;32m    228\u001b[0m         img_rgb[j, i, \u001b[38;5;241m0\u001b[39m] \u001b[38;5;241m=\u001b[39m color[\u001b[38;5;241m1\u001b[39m]\n\u001b[1;32m--> 229\u001b[0m         img_rgb[j, i, \u001b[38;5;241m1\u001b[39m] \u001b[38;5;241m=\u001b[39m color[\u001b[38;5;241m2\u001b[39m]\n\u001b[0;32m    230\u001b[0m         img_rgb[j, i, \u001b[38;5;241m2\u001b[39m] \u001b[38;5;241m=\u001b[39m color[\u001b[38;5;241m3\u001b[39m]\n\u001b[0;32m    231\u001b[0m \u001b[38;5;28;01mdel\u001b[39;00m img_int\n",
      "\u001b[1;31mKeyboardInterrupt\u001b[0m: "
     ]
    }
   ],
   "source": [
    "import argparse\n",
    "import os\n",
    "import random\n",
    "import time\n",
    "from distutils.util import strtobool\n",
    "import pygame\n",
    "import gym\n",
    "import numpy as np\n",
    "from gym_macro_overcooked.macActEnvWrapper import MacEnvWrapper\n",
    "\n",
    "rewardList = {\n",
    "    \"subtask finished\": 10,\n",
    "    \"correct delivery\": 200,\n",
    "    \"wrong delivery\": -5,\n",
    "    \"step penalty\": -0.1,\n",
    "    \"burned penalty\": -2,\n",
    "}\n",
    "\n",
    "env = gym.make(\n",
    "    \"Dynamic-v3\",\n",
    "    n_task=2,\n",
    "    rewardList=rewardList,\n",
    "    n_agent=1,\n",
    "    obs_radius=2,\n",
    "    obs_mode=\"vector\",\n",
    "    debug=True,\n",
    ")\n",
    "env.reset()\n",
    "\n",
    "\n",
    "# 将键盘WASD输入转换为动作的函数\n",
    "def key2action(key):\n",
    "    if key == \"d\":\n",
    "        return 0\n",
    "    elif key == \"s\":\n",
    "        return 1\n",
    "    elif key == \"a\":\n",
    "        return 2\n",
    "    elif key == \"w\":\n",
    "        return 3\n",
    "    else:\n",
    "        return None\n",
    "\n",
    "\n",
    "# 开始游戏，使用WASD控制移动\n",
    "done = False\n",
    "obs = env.reset()\n",
    "\n",
    "# 初始化pygame\n",
    "pygame.init()\n",
    "screen = pygame.display.set_mode((600, 400))\n",
    "\n",
    "# 控制渲染和事件处理的频率\n",
    "clock = pygame.time.Clock()\n",
    "\n",
    "while not done:\n",
    "    env.render()\n",
    "\n",
    "    for event in pygame.event.get():\n",
    "        if event.type == pygame.QUIT:\n",
    "            done = True\n",
    "        elif event.type == pygame.KEYDOWN:\n",
    "            key = pygame.key.name(event.key)\n",
    "            print(f\"Key: {key}\")\n",
    "            action = key2action(key)\n",
    "            if action is not None:\n",
    "                new_obs, reward, done, info = env.step([action])\n",
    "                print(f\"Reward: {reward}, Done: {done}, Info: {info}\")\n",
    "                obs = new_obs\n",
    "\n",
    "    # 控制每秒钟的帧率\n",
    "    clock.tick(30)\n",
    "\n",
    "pygame.quit()\n"
   ]
  },
  {
   "cell_type": "code",
   "execution_count": 11,
   "metadata": {},
   "outputs": [
    {
     "name": "stdout",
     "output_type": "stream",
     "text": [
      "[array([0.77777778, 0.88888889, 0.55555556, 0.88888889, 0.66666667,\n",
      "       0.88888889, 0.33333333, 0.88888889, 0.        , 0.55555556,\n",
      "       0.        , 0.77777778, 0.44444444, 0.        , 0.11111111,\n",
      "       0.77777778, 0.88888889, 0.55555556, 0.11111111, 0.88888889,\n",
      "       0.88888889, 0.77777778, 0.88888889, 0.11111111, 0.        ,\n",
      "       0.        , 0.        , 0.11111111, 0.        , 0.22222222,\n",
      "       0.        , 0.33333333, 0.        , 0.44444444, 0.        ,\n",
      "       0.55555556, 0.        , 0.66666667, 0.        , 0.77777778,\n",
      "       0.        , 0.88888889, 0.11111111, 0.        , 0.11111111,\n",
      "       0.33333333, 0.11111111, 0.77777778, 0.11111111, 0.88888889,\n",
      "       0.22222222, 0.        , 0.22222222, 0.33333333, 0.22222222,\n",
      "       0.88888889, 0.33333333, 0.        , 0.33333333, 0.33333333,\n",
      "       0.33333333, 0.88888889, 0.44444444, 0.        , 0.44444444,\n",
      "       0.33333333, 0.44444444, 0.44444444, 0.44444444, 0.77777778,\n",
      "       0.44444444, 0.88888889, 0.55555556, 0.        , 0.55555556,\n",
      "       0.88888889, 0.66666667, 0.        , 0.66666667, 0.88888889,\n",
      "       0.77777778, 0.        , 0.77777778, 0.88888889, 0.88888889,\n",
      "       0.        , 0.88888889, 0.11111111, 0.88888889, 0.22222222,\n",
      "       0.88888889, 0.33333333, 0.88888889, 0.44444444, 0.88888889,\n",
      "       0.55555556, 0.88888889, 0.66666667, 0.88888889, 0.77777778,\n",
      "       0.88888889, 0.88888889, 1.        , 0.        , 0.        ,\n",
      "       1.        , 0.        , 0.        , 0.        , 1.        ])] [-0.1] False {'cur_mac': [0], 'mac_done': [True], 'collision': []}\n"
     ]
    }
   ],
   "source": [
    "obs,reward,done,info=env.step([0])\n",
    "task_text =\"task:\"+str([str(task[\"ingredients\"]) for task in env.tasks])\n",
    "reward_text = \"reward:\"+str(reward)\n",
    "env.game.display_info([task_text,reward_text])\n",
    "env.render()\n",
    "print(obs, reward, done, info)"
   ]
  },
  {
   "cell_type": "code",
   "execution_count": 10,
   "metadata": {},
   "outputs": [
    {
     "data": {
      "text/plain": [
       "['task:[\"(\\'tomato\\', \\'steak\\')\", \"(\\'steak\\',)\"]', 'reward:[-0.1]']"
      ]
     },
     "execution_count": 10,
     "metadata": {},
     "output_type": "execute_result"
    }
   ],
   "source": [
    "[task_text,reward_text]"
   ]
  },
  {
   "cell_type": "code",
   "execution_count": 6,
   "metadata": {},
   "outputs": [
    {
     "data": {
      "text/plain": [
       "True"
      ]
     },
     "execution_count": 6,
     "metadata": {},
     "output_type": "execute_result"
    }
   ],
   "source": [
    "(True or False) and True"
   ]
  },
  {
   "cell_type": "code",
   "execution_count": 1,
   "metadata": {},
   "outputs": [
    {
     "name": "stdout",
     "output_type": "stream",
     "text": [
      "pygame 2.5.2 (SDL 2.28.3, Python 3.9.7)\n",
      "Hello from the pygame community. https://www.pygame.org/contribute.html\n"
     ]
    }
   ],
   "source": [
    "import argparse\n",
    "import os\n",
    "import random\n",
    "import time\n",
    "from distutils.util import strtobool\n",
    "import pygame\n",
    "import gym\n",
    "import numpy as np\n",
    "from gym_macro_overcooked.macActEnvWrapper import MacEnvWrapper\n",
    "\n",
    "rewardList = {\n",
    "    \"subtask finished\": 10,\n",
    "    \"correct delivery\": 200,\n",
    "    \"wrong delivery\": -5,\n",
    "    \"step penalty\": -0.1,\n",
    "    \"burned penalty\": -2,\n",
    "}\n",
    "\n",
    "env = gym.make(\n",
    "    \"Dynamic-v3\",\n",
    "    n_task=2,\n",
    "    rewardList=rewardList,\n",
    "    n_agent=1,\n",
    "    obs_radius=2,\n",
    "    obs_mode=\"vector\",\n",
    "    debug=True,\n",
    ")\n",
    "env.reset()\n",
    "\n",
    "\n",
    "# 将键盘WASD输入转换为动作的函数\n",
    "def key2action(key):\n",
    "    if key == \"d\":\n",
    "        return 0\n",
    "    elif key == \"s\":\n",
    "        return 1\n",
    "    elif key == \"a\":\n",
    "        return 2\n",
    "    elif key == \"w\":\n",
    "        return 3\n",
    "    else:\n",
    "        return None\n",
    "\n",
    "\n"
   ]
  },
  {
   "cell_type": "code",
   "execution_count": 2,
   "metadata": {},
   "outputs": [],
   "source": [
    "env.tomato[0].chopped=True\n",
    "env.plate[0].containing.append(env.tomato[0])\n",
    "env.agent[0].holding=env.plate[0]"
   ]
  },
  {
   "cell_type": "code",
   "execution_count": 9,
   "metadata": {},
   "outputs": [
    {
     "ename": "ImportError",
     "evalue": "attempted relative import with no known parent package",
     "output_type": "error",
     "traceback": [
      "\u001b[1;31m---------------------------------------------------------------------------\u001b[0m",
      "\u001b[1;31mImportError\u001b[0m                               Traceback (most recent call last)",
      "Cell \u001b[1;32mIn[9], line 1\u001b[0m\n\u001b[1;32m----> 1\u001b[0m \u001b[38;5;28;01mfrom\u001b[39;00m \u001b[38;5;21;01m.\u001b[39;00m\u001b[38;5;21;01m.\u001b[39;00m\u001b[38;5;21;01mitems\u001b[39;00m \u001b[38;5;28;01mimport\u001b[39;00m Tomato, Lettuce, Plate, Knife, Delivery, Agent, Food\n",
      "\u001b[1;31mImportError\u001b[0m: attempted relative import with no known parent package"
     ]
    }
   ],
   "source": [
    "from ..items import Tomato, Lettuce, Plate, Knife, Delivery, Agent, Food\n"
   ]
  },
  {
   "cell_type": "code",
   "execution_count": 8,
   "metadata": {},
   "outputs": [
    {
     "ename": "NameError",
     "evalue": "name 'Plate' is not defined",
     "output_type": "error",
     "traceback": [
      "\u001b[1;31m---------------------------------------------------------------------------\u001b[0m",
      "\u001b[1;31mNameError\u001b[0m                                 Traceback (most recent call last)",
      "Cell \u001b[1;32mIn[8], line 1\u001b[0m\n\u001b[1;32m----> 1\u001b[0m \u001b[38;5;28misinstance\u001b[39m(env\u001b[38;5;241m.\u001b[39magent[\u001b[38;5;241m0\u001b[39m]\u001b[38;5;241m.\u001b[39mholding, \u001b[43mPlate\u001b[49m)\n",
      "\u001b[1;31mNameError\u001b[0m: name 'Plate' is not defined"
     ]
    }
   ],
   "source": [
    "isinstance(env.agent[0].holding, Plate)"
   ]
  },
  {
   "cell_type": "code",
   "execution_count": 3,
   "metadata": {},
   "outputs": [
    {
     "data": {
      "text/plain": [
       "array([[[114,  93,  51],\n",
       "        [114,  93,  51],\n",
       "        [114,  93,  51],\n",
       "        ...,\n",
       "        [114,  93,  51],\n",
       "        [114,  93,  51],\n",
       "        [114,  93,  51]],\n",
       "\n",
       "       [[114,  93,  51],\n",
       "        [220, 170, 110],\n",
       "        [220, 170, 110],\n",
       "        ...,\n",
       "        [220, 170, 110],\n",
       "        [220, 170, 110],\n",
       "        [114,  93,  51]],\n",
       "\n",
       "       [[114,  93,  51],\n",
       "        [220, 170, 110],\n",
       "        [220, 170, 110],\n",
       "        ...,\n",
       "        [220, 170, 110],\n",
       "        [220, 170, 110],\n",
       "        [114,  93,  51]],\n",
       "\n",
       "       ...,\n",
       "\n",
       "       [[114,  93,  51],\n",
       "        [220, 170, 110],\n",
       "        [220, 170, 110],\n",
       "        ...,\n",
       "        [220, 170, 110],\n",
       "        [220, 170, 110],\n",
       "        [114,  93,  51]],\n",
       "\n",
       "       [[114,  93,  51],\n",
       "        [220, 170, 110],\n",
       "        [220, 170, 110],\n",
       "        ...,\n",
       "        [220, 170, 110],\n",
       "        [220, 170, 110],\n",
       "        [114,  93,  51]],\n",
       "\n",
       "       [[114,  93,  51],\n",
       "        [114,  93,  51],\n",
       "        [114,  93,  51],\n",
       "        ...,\n",
       "        [114,  93,  51],\n",
       "        [114,  93,  51],\n",
       "        [114,  93,  51]]], dtype=uint8)"
      ]
     },
     "execution_count": 3,
     "metadata": {},
     "output_type": "execute_result"
    },
    {
     "ename": "",
     "evalue": "",
     "output_type": "error",
     "traceback": [
      "\u001b[1;31m在当前单元格或上一个单元格中执行代码时 Kernel 崩溃。\n",
      "\u001b[1;31m请查看单元格中的代码，以确定故障的可能原因。\n",
      "\u001b[1;31m单击<a href='https://aka.ms/vscodeJupyterKernelCrash'>此处</a>了解详细信息。\n",
      "\u001b[1;31m有关更多详细信息，请查看 Jupyter <a href='command:jupyter.viewOutput'>log</a>。"
     ]
    }
   ],
   "source": [
    "env.render()"
   ]
  },
  {
   "cell_type": "code",
   "execution_count": 37,
   "metadata": {},
   "outputs": [
    {
     "name": "stdout",
     "output_type": "stream",
     "text": [
      "Reward: [-0.1], Done: False, Info: {'cur_mac': [3], 'mac_done': [True], 'collision': []}\n"
     ]
    },
    {
     "data": {
      "text/plain": [
       "array([[[114,  93,  51],\n",
       "        [114,  93,  51],\n",
       "        [114,  93,  51],\n",
       "        ...,\n",
       "        [114,  93,  51],\n",
       "        [114,  93,  51],\n",
       "        [114,  93,  51]],\n",
       "\n",
       "       [[114,  93,  51],\n",
       "        [220, 170, 110],\n",
       "        [220, 170, 110],\n",
       "        ...,\n",
       "        [220, 170, 110],\n",
       "        [220, 170, 110],\n",
       "        [114,  93,  51]],\n",
       "\n",
       "       [[114,  93,  51],\n",
       "        [220, 170, 110],\n",
       "        [220, 170, 110],\n",
       "        ...,\n",
       "        [220, 170, 110],\n",
       "        [220, 170, 110],\n",
       "        [114,  93,  51]],\n",
       "\n",
       "       ...,\n",
       "\n",
       "       [[114,  93,  51],\n",
       "        [220, 170, 110],\n",
       "        [220, 170, 110],\n",
       "        ...,\n",
       "        [220, 170, 110],\n",
       "        [220, 170, 110],\n",
       "        [114,  93,  51]],\n",
       "\n",
       "       [[114,  93,  51],\n",
       "        [220, 170, 110],\n",
       "        [220, 170, 110],\n",
       "        ...,\n",
       "        [220, 170, 110],\n",
       "        [220, 170, 110],\n",
       "        [114,  93,  51]],\n",
       "\n",
       "       [[114,  93,  51],\n",
       "        [114,  93,  51],\n",
       "        [114,  93,  51],\n",
       "        ...,\n",
       "        [114,  93,  51],\n",
       "        [114,  93,  51],\n",
       "        [114,  93,  51]]], dtype=uint8)"
      ]
     },
     "execution_count": 37,
     "metadata": {},
     "output_type": "execute_result"
    }
   ],
   "source": [
    "key=input(\"Please input a key: \")\n",
    "action = key2action(key)\n",
    "new_obs, reward, done, info = env.step([action])\n",
    "print(f\"Reward: {reward}, Done: {done}, Info: {info}\")\n",
    "env.render()"
   ]
  },
  {
   "cell_type": "code",
   "execution_count": 31,
   "metadata": {},
   "outputs": [
    {
     "name": "stdout",
     "output_type": "stream",
     "text": [
      "yes\n"
     ]
    }
   ],
   "source": [
    "if env.plate[0].containing:\n",
    "    print('yes')"
   ]
  },
  {
   "cell_type": "code",
   "execution_count": 36,
   "metadata": {},
   "outputs": [
    {
     "name": "stdout",
     "output_type": "stream",
     "text": [
      "yes\n"
     ]
    }
   ],
   "source": [
    "if env.agent[0].holding.containing:\n",
    "    print('yes')"
   ]
  }
 ],
 "metadata": {
  "kernelspec": {
   "display_name": "LLM",
   "language": "python",
   "name": "python3"
  },
  "language_info": {
   "codemirror_mode": {
    "name": "ipython",
    "version": 3
   },
   "file_extension": ".py",
   "mimetype": "text/x-python",
   "name": "python",
   "nbconvert_exporter": "python",
   "pygments_lexer": "ipython3",
   "version": "3.9.7"
  }
 },
 "nbformat": 4,
 "nbformat_minor": 2
}
